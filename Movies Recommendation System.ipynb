{
 "cells": [
  {
   "cell_type": "code",
   "execution_count": 1,
   "id": "1664fd2f",
   "metadata": {},
   "outputs": [],
   "source": [
    "import pandas as pd\n",
    "import numpy as np"
   ]
  },
  {
   "cell_type": "code",
   "execution_count": 2,
   "id": "a4cd5970",
   "metadata": {},
   "outputs": [],
   "source": [
    "movies_data = pd.read_csv('tmdb_5000_movies.csv')\n",
    "credits_data = pd.read_csv('tmdb_5000_credits.csv')"
   ]
  },
  {
   "cell_type": "code",
   "execution_count": 3,
   "id": "5141fda2",
   "metadata": {},
   "outputs": [
    {
     "data": {
      "text/html": [
       "<div>\n",
       "<style scoped>\n",
       "    .dataframe tbody tr th:only-of-type {\n",
       "        vertical-align: middle;\n",
       "    }\n",
       "\n",
       "    .dataframe tbody tr th {\n",
       "        vertical-align: top;\n",
       "    }\n",
       "\n",
       "    .dataframe thead th {\n",
       "        text-align: right;\n",
       "    }\n",
       "</style>\n",
       "<table border=\"1\" class=\"dataframe\">\n",
       "  <thead>\n",
       "    <tr style=\"text-align: right;\">\n",
       "      <th></th>\n",
       "      <th>budget</th>\n",
       "      <th>genres</th>\n",
       "      <th>homepage</th>\n",
       "      <th>id</th>\n",
       "      <th>keywords</th>\n",
       "      <th>original_language</th>\n",
       "      <th>original_title</th>\n",
       "      <th>overview</th>\n",
       "      <th>popularity</th>\n",
       "      <th>production_companies</th>\n",
       "      <th>production_countries</th>\n",
       "      <th>release_date</th>\n",
       "      <th>revenue</th>\n",
       "      <th>runtime</th>\n",
       "      <th>spoken_languages</th>\n",
       "      <th>status</th>\n",
       "      <th>tagline</th>\n",
       "      <th>title</th>\n",
       "      <th>vote_average</th>\n",
       "      <th>vote_count</th>\n",
       "    </tr>\n",
       "  </thead>\n",
       "  <tbody>\n",
       "    <tr>\n",
       "      <th>0</th>\n",
       "      <td>237000000</td>\n",
       "      <td>[{\"id\": 28, \"name\": \"Action\"}, {\"id\": 12, \"nam...</td>\n",
       "      <td>http://www.avatarmovie.com/</td>\n",
       "      <td>19995</td>\n",
       "      <td>[{\"id\": 1463, \"name\": \"culture clash\"}, {\"id\":...</td>\n",
       "      <td>en</td>\n",
       "      <td>Avatar</td>\n",
       "      <td>In the 22nd century, a paraplegic Marine is di...</td>\n",
       "      <td>150.437577</td>\n",
       "      <td>[{\"name\": \"Ingenious Film Partners\", \"id\": 289...</td>\n",
       "      <td>[{\"iso_3166_1\": \"US\", \"name\": \"United States o...</td>\n",
       "      <td>2009-12-10</td>\n",
       "      <td>2787965087</td>\n",
       "      <td>162.0</td>\n",
       "      <td>[{\"iso_639_1\": \"en\", \"name\": \"English\"}, {\"iso...</td>\n",
       "      <td>Released</td>\n",
       "      <td>Enter the World of Pandora.</td>\n",
       "      <td>Avatar</td>\n",
       "      <td>7.2</td>\n",
       "      <td>11800</td>\n",
       "    </tr>\n",
       "  </tbody>\n",
       "</table>\n",
       "</div>"
      ],
      "text/plain": [
       "      budget                                             genres  \\\n",
       "0  237000000  [{\"id\": 28, \"name\": \"Action\"}, {\"id\": 12, \"nam...   \n",
       "\n",
       "                      homepage     id  \\\n",
       "0  http://www.avatarmovie.com/  19995   \n",
       "\n",
       "                                            keywords original_language  \\\n",
       "0  [{\"id\": 1463, \"name\": \"culture clash\"}, {\"id\":...                en   \n",
       "\n",
       "  original_title                                           overview  \\\n",
       "0         Avatar  In the 22nd century, a paraplegic Marine is di...   \n",
       "\n",
       "   popularity                               production_companies  \\\n",
       "0  150.437577  [{\"name\": \"Ingenious Film Partners\", \"id\": 289...   \n",
       "\n",
       "                                production_countries release_date     revenue  \\\n",
       "0  [{\"iso_3166_1\": \"US\", \"name\": \"United States o...   2009-12-10  2787965087   \n",
       "\n",
       "   runtime                                   spoken_languages    status  \\\n",
       "0    162.0  [{\"iso_639_1\": \"en\", \"name\": \"English\"}, {\"iso...  Released   \n",
       "\n",
       "                       tagline   title  vote_average  vote_count  \n",
       "0  Enter the World of Pandora.  Avatar           7.2       11800  "
      ]
     },
     "execution_count": 3,
     "metadata": {},
     "output_type": "execute_result"
    }
   ],
   "source": [
    "movies_data.head(1)"
   ]
  },
  {
   "cell_type": "code",
   "execution_count": 4,
   "id": "1a998f6c",
   "metadata": {},
   "outputs": [
    {
     "name": "stdout",
     "output_type": "stream",
     "text": [
      "<class 'pandas.core.frame.DataFrame'>\n",
      "RangeIndex: 4803 entries, 0 to 4802\n",
      "Data columns (total 20 columns):\n",
      " #   Column                Non-Null Count  Dtype  \n",
      "---  ------                --------------  -----  \n",
      " 0   budget                4803 non-null   int64  \n",
      " 1   genres                4803 non-null   object \n",
      " 2   homepage              1712 non-null   object \n",
      " 3   id                    4803 non-null   int64  \n",
      " 4   keywords              4803 non-null   object \n",
      " 5   original_language     4803 non-null   object \n",
      " 6   original_title        4803 non-null   object \n",
      " 7   overview              4800 non-null   object \n",
      " 8   popularity            4803 non-null   float64\n",
      " 9   production_companies  4803 non-null   object \n",
      " 10  production_countries  4803 non-null   object \n",
      " 11  release_date          4802 non-null   object \n",
      " 12  revenue               4803 non-null   int64  \n",
      " 13  runtime               4801 non-null   float64\n",
      " 14  spoken_languages      4803 non-null   object \n",
      " 15  status                4803 non-null   object \n",
      " 16  tagline               3959 non-null   object \n",
      " 17  title                 4803 non-null   object \n",
      " 18  vote_average          4803 non-null   float64\n",
      " 19  vote_count            4803 non-null   int64  \n",
      "dtypes: float64(3), int64(4), object(13)\n",
      "memory usage: 750.6+ KB\n",
      "None\n"
     ]
    }
   ],
   "source": [
    "print(movies_data.info())"
   ]
  },
  {
   "cell_type": "code",
   "execution_count": 5,
   "id": "e3fcecda",
   "metadata": {},
   "outputs": [
    {
     "data": {
      "text/html": [
       "<div>\n",
       "<style scoped>\n",
       "    .dataframe tbody tr th:only-of-type {\n",
       "        vertical-align: middle;\n",
       "    }\n",
       "\n",
       "    .dataframe tbody tr th {\n",
       "        vertical-align: top;\n",
       "    }\n",
       "\n",
       "    .dataframe thead th {\n",
       "        text-align: right;\n",
       "    }\n",
       "</style>\n",
       "<table border=\"1\" class=\"dataframe\">\n",
       "  <thead>\n",
       "    <tr style=\"text-align: right;\">\n",
       "      <th></th>\n",
       "      <th>movie_id</th>\n",
       "      <th>title</th>\n",
       "      <th>cast</th>\n",
       "      <th>crew</th>\n",
       "    </tr>\n",
       "  </thead>\n",
       "  <tbody>\n",
       "    <tr>\n",
       "      <th>0</th>\n",
       "      <td>19995</td>\n",
       "      <td>Avatar</td>\n",
       "      <td>[{\"cast_id\": 242, \"character\": \"Jake Sully\", \"...</td>\n",
       "      <td>[{\"credit_id\": \"52fe48009251416c750aca23\", \"de...</td>\n",
       "    </tr>\n",
       "  </tbody>\n",
       "</table>\n",
       "</div>"
      ],
      "text/plain": [
       "   movie_id   title                                               cast  \\\n",
       "0     19995  Avatar  [{\"cast_id\": 242, \"character\": \"Jake Sully\", \"...   \n",
       "\n",
       "                                                crew  \n",
       "0  [{\"credit_id\": \"52fe48009251416c750aca23\", \"de...  "
      ]
     },
     "execution_count": 5,
     "metadata": {},
     "output_type": "execute_result"
    }
   ],
   "source": [
    "credits_data.head(1)"
   ]
  },
  {
   "cell_type": "code",
   "execution_count": 6,
   "id": "0763bb42",
   "metadata": {},
   "outputs": [],
   "source": [
    "movies_data = movies_data.merge(credits_data , on='title')"
   ]
  },
  {
   "cell_type": "code",
   "execution_count": 7,
   "id": "96ba3959",
   "metadata": {},
   "outputs": [
    {
     "data": {
      "text/html": [
       "<div>\n",
       "<style scoped>\n",
       "    .dataframe tbody tr th:only-of-type {\n",
       "        vertical-align: middle;\n",
       "    }\n",
       "\n",
       "    .dataframe tbody tr th {\n",
       "        vertical-align: top;\n",
       "    }\n",
       "\n",
       "    .dataframe thead th {\n",
       "        text-align: right;\n",
       "    }\n",
       "</style>\n",
       "<table border=\"1\" class=\"dataframe\">\n",
       "  <thead>\n",
       "    <tr style=\"text-align: right;\">\n",
       "      <th></th>\n",
       "      <th>budget</th>\n",
       "      <th>genres</th>\n",
       "      <th>homepage</th>\n",
       "      <th>id</th>\n",
       "      <th>keywords</th>\n",
       "      <th>original_language</th>\n",
       "      <th>original_title</th>\n",
       "      <th>overview</th>\n",
       "      <th>popularity</th>\n",
       "      <th>production_companies</th>\n",
       "      <th>...</th>\n",
       "      <th>runtime</th>\n",
       "      <th>spoken_languages</th>\n",
       "      <th>status</th>\n",
       "      <th>tagline</th>\n",
       "      <th>title</th>\n",
       "      <th>vote_average</th>\n",
       "      <th>vote_count</th>\n",
       "      <th>movie_id</th>\n",
       "      <th>cast</th>\n",
       "      <th>crew</th>\n",
       "    </tr>\n",
       "  </thead>\n",
       "  <tbody>\n",
       "    <tr>\n",
       "      <th>0</th>\n",
       "      <td>237000000</td>\n",
       "      <td>[{\"id\": 28, \"name\": \"Action\"}, {\"id\": 12, \"nam...</td>\n",
       "      <td>http://www.avatarmovie.com/</td>\n",
       "      <td>19995</td>\n",
       "      <td>[{\"id\": 1463, \"name\": \"culture clash\"}, {\"id\":...</td>\n",
       "      <td>en</td>\n",
       "      <td>Avatar</td>\n",
       "      <td>In the 22nd century, a paraplegic Marine is di...</td>\n",
       "      <td>150.437577</td>\n",
       "      <td>[{\"name\": \"Ingenious Film Partners\", \"id\": 289...</td>\n",
       "      <td>...</td>\n",
       "      <td>162.0</td>\n",
       "      <td>[{\"iso_639_1\": \"en\", \"name\": \"English\"}, {\"iso...</td>\n",
       "      <td>Released</td>\n",
       "      <td>Enter the World of Pandora.</td>\n",
       "      <td>Avatar</td>\n",
       "      <td>7.2</td>\n",
       "      <td>11800</td>\n",
       "      <td>19995</td>\n",
       "      <td>[{\"cast_id\": 242, \"character\": \"Jake Sully\", \"...</td>\n",
       "      <td>[{\"credit_id\": \"52fe48009251416c750aca23\", \"de...</td>\n",
       "    </tr>\n",
       "  </tbody>\n",
       "</table>\n",
       "<p>1 rows × 23 columns</p>\n",
       "</div>"
      ],
      "text/plain": [
       "      budget                                             genres  \\\n",
       "0  237000000  [{\"id\": 28, \"name\": \"Action\"}, {\"id\": 12, \"nam...   \n",
       "\n",
       "                      homepage     id  \\\n",
       "0  http://www.avatarmovie.com/  19995   \n",
       "\n",
       "                                            keywords original_language  \\\n",
       "0  [{\"id\": 1463, \"name\": \"culture clash\"}, {\"id\":...                en   \n",
       "\n",
       "  original_title                                           overview  \\\n",
       "0         Avatar  In the 22nd century, a paraplegic Marine is di...   \n",
       "\n",
       "   popularity                               production_companies  ... runtime  \\\n",
       "0  150.437577  [{\"name\": \"Ingenious Film Partners\", \"id\": 289...  ...   162.0   \n",
       "\n",
       "                                    spoken_languages    status  \\\n",
       "0  [{\"iso_639_1\": \"en\", \"name\": \"English\"}, {\"iso...  Released   \n",
       "\n",
       "                       tagline   title vote_average vote_count movie_id  \\\n",
       "0  Enter the World of Pandora.  Avatar          7.2      11800    19995   \n",
       "\n",
       "                                                cast  \\\n",
       "0  [{\"cast_id\": 242, \"character\": \"Jake Sully\", \"...   \n",
       "\n",
       "                                                crew  \n",
       "0  [{\"credit_id\": \"52fe48009251416c750aca23\", \"de...  \n",
       "\n",
       "[1 rows x 23 columns]"
      ]
     },
     "execution_count": 7,
     "metadata": {},
     "output_type": "execute_result"
    }
   ],
   "source": [
    "movies_data.head(1)"
   ]
  },
  {
   "cell_type": "code",
   "execution_count": 8,
   "id": "3b31a202",
   "metadata": {},
   "outputs": [
    {
     "data": {
      "text/plain": [
       "[]                                                                                                                                                                                                                                                                                                                                                                                                                                                                                                                                                                                                                                                                                                                                                                                                                                                                                                                                                                                                                                                                                                                                                                                                                                                                                                                                                                                                                                                                                                                                                                                                                                                                                                                                                                                                                                                                                                                                                                                                                                                                                                                                                                                                                                                                                                                                                                                                                                                                                                                                                                                                                                                                                                                                                                                                                                                                                                                                                                                                                                                                                                                                                                                                                                                                                                                                                                                                                                                                                                                                                                                                                                                                                                                                                                                                                                                                                                                                                                                                                                                                                                                                                                                                                                                                                                                                                                                                                                                                                                                                                                                                                                                                                                                                                                                                                                                                                                                                                                                                                                                                                                                                                                                                                                                                                                                                                                                                                                                                                                                                                                                                                                                                                                                                                                                                                                                                                                                                                                                                                                                                                                                                                                                                                                                                                                                                                                                                                                                                                                                                                                                                                                                                                                                                                                                                                                                                                                                                                                                                                                                                                                                                                                                                                                                                                                                                                                                                                                                                                                                                                                                                                                                                                                                                                                                                                                                                                                                                                                                                                                                                                                                                                                                                                                                                                                                                                                                                                                                                                                                                                                                                                                                                                                                                                                                                                                                                                                                                                                                                                                                                                                                                                                                                                                                                                                                                                                                                                                                                                                                                                                                                                                                                                                                                                                                                                                                                                                                                                                                                                                                                                                                                                                                                                                                                                                                                                                                                                                                                                                                                                                                                                                                                                                                                                                                                                                                                                                                                                                                                                                                                                                                                                                                                                                                                                                                                                                                                                                                                                                                                                                                                                                                                                                                                                                                                                                                                                                                                                                                                                                                                                                                                                                                                                                                                                                                                                                                                                                                                                                                                                                                                                                                                                                                                                                                                                                                                                                                                                                                                                                                                                                                                                                                                                                                                                                                                                                                                                                                                                                                                                                                                                                                                                                                                                                                                                                                                                                                                                                                                                                                                                                                                                                                                                                                                                                                                                                                                                                                                                                                                                                                                                                                                                                                                                                                                                                                                                                                                                                                                                                                                                                                                                                                                                                                                                                                                                                                                                                                                                                                                                                                                                                                                                                                                                                                                                                                                                                                                                                                                                                                                                                                                                                                                                                                                                                                                                                                                                                                                                                                                                                                                                                                                                                                                                                                                                                                                                                                                                                                                                                                                                                                                                                                                                                                                                                                                                                                                                                                                                                                                                                                                                                                                                                                                                                                                                                                                                                                                                                                                                                                                                                                                                                                                                                                                                                                                                                                                                                                                                                                                                                                                                                                                                                                                                                                                                                                                                                                                                                                                                                                                                                                                                                                                                                                                                                                                                                                                                                                                                                                                                                                                                                                                                                                                                                                                                                                                                                                                                                                                                                                                                                                                                                                                                                                                                                                                                                                                                                                                                                                                                                                                                                                                                                                                                           28\n",
       "[{\"credit_id\": \"52fe47099251416c9106826f\", \"department\": \"Directing\", \"gender\": 2, \"id\": 2778, \"job\": \"Director\", \"name\": \"Dennis Hopper\"}, {\"credit_id\": \"5691ef9192514115c2000c5e\", \"department\": \"Writing\", \"gender\": 2, \"id\": 2778, \"job\": \"Writer\", \"name\": \"Dennis Hopper\"}, {\"credit_id\": \"5691efc8c3a3684cff000d66\", \"department\": \"Production\", \"gender\": 2, \"id\": 8955, \"job\": \"Executive Producer\", \"name\": \"Paul Lewis\"}, {\"credit_id\": \"5691f02992514115ce000de8\", \"department\": \"Art\", \"gender\": 2, \"id\": 9823, \"job\": \"Set Decoration\", \"name\": \"Peter Young\"}, {\"credit_id\": \"5691f03292514115c8000dbc\", \"department\": \"Costume & Make-Up\", \"gender\": 0, \"id\": 16550, \"job\": \"Hairstylist\", \"name\": \"Salli Bailey\"}, {\"credit_id\": \"5691f04c92514115ce000def\", \"department\": \"Costume & Make-Up\", \"gender\": 0, \"id\": 16550, \"job\": \"Makeup Artist\", \"name\": \"Salli Bailey\"}, {\"credit_id\": \"5691f00bc3a3684d04000db4\", \"department\": \"Art\", \"gender\": 0, \"id\": 32772, \"job\": \"Production Design\", \"name\": \"Leon Ericksen\"}, {\"credit_id\": \"5691f056c3a3684cf6000d57\", \"department\": \"Directing\", \"gender\": 2, \"id\": 1121654, \"job\": \"Assistant Director\", \"name\": \"Jacques Hubert\"}, {\"credit_id\": \"5691efefc3a3684d04000da9\", \"department\": \"Camera\", \"gender\": 0, \"id\": 1377622, \"job\": \"Director of Photography\", \"name\": \"Marc Champion\"}, {\"credit_id\": \"5691efe3c3a3684cf6000d46\", \"department\": \"Sound\", \"gender\": 0, \"id\": 1379159, \"job\": \"Original Music Composer\", \"name\": \"Tom Lavin\"}, {\"credit_id\": \"5691efb692514115c8000da1\", \"department\": \"Production\", \"gender\": 0, \"id\": 1394644, \"job\": \"Producer\", \"name\": \"Jean Gontier\"}, {\"credit_id\": \"5691f000c3a3684cff000d75\", \"department\": \"Production\", \"gender\": 1, \"id\": 1397151, \"job\": \"Casting\", \"name\": \"Lindsay Walker\"}, {\"credit_id\": \"5691ef80c3a3684d08000d86\", \"department\": \"Writing\", \"gender\": 0, \"id\": 1561092, \"job\": \"Writer\", \"name\": \"Leonard Yakir\"}, {\"credit_id\": \"5691efd992514115ce000ddc\", \"department\": \"Production\", \"gender\": 0, \"id\": 1561092, \"job\": \"Producer\", \"name\": \"Leonard Yakir\"}, {\"credit_id\": \"5691ef89c3a3684d0b000c21\", \"department\": \"Writing\", \"gender\": 0, \"id\": 1561093, \"job\": \"Writer\", \"name\": \"Brenda Nielson\"}, {\"credit_id\": \"5691efa6c3a3684cff000d5e\", \"department\": \"Writing\", \"gender\": 0, \"id\": 1561094, \"job\": \"Writer\", \"name\": \"Gary Jules Jouvenat\"}, {\"credit_id\": \"5691efbe92514115bf000cef\", \"department\": \"Production\", \"gender\": 0, \"id\": 1561094, \"job\": \"Producer\", \"name\": \"Gary Jules Jouvenat\"}, {\"credit_id\": \"5691efd192514115bf000cf4\", \"department\": \"Production\", \"gender\": 0, \"id\": 1561095, \"job\": \"Associate Producer\", \"name\": \"Aaron Sadovnick\"}, {\"credit_id\": \"5691eff7c3a3684cff000d70\", \"department\": \"Editing\", \"gender\": 0, \"id\": 1561096, \"job\": \"Editor\", \"name\": \"Doris Dyck\"}, {\"credit_id\": \"5691f013c3a3684d04000db8\", \"department\": \"Art\", \"gender\": 0, \"id\": 1561097, \"job\": \"Art Direction\", \"name\": \"David Hiscox\"}]                                                                                                                                                                                                                                                                                                                                                                                                                                                                                                                                                                                                                                                                                                                                                                                                                                                                                                                                                                                                                                                                                                                                                                                                                                                                                                                                                                                                                                                                                                                                                                                                                                                                                                                                                                                                                                                                                                                                                                                                                                                                                                                                                                                                                                                                                                                                                                                                                                                                                                                                                                                                                                                                                                                                                                                                                                                                                                                                                                                                                                                                                                                                                                                                                                                                                                                                                                                                                                                                                                                                                                                                                                                                                                                                                                                                                                                                                                                                                                                                                                                                                                                                                                                                                                                                                                                                                                                                                                                                                                                                                                                                                                                                                                                                                                                                                                                                                                                                                                                                                                                                                                                                                                                                                                                                                                                                                                                                                                                                                                                                                                                                                                                                                                                                                                                                                                                                                                                                                                                                                                                                                                                                                                                                                                                                                                                                                                                                                                                                                                                                                                                                                                                                                                                                                                                                                                                                                                                                                                                                                                                                                                                                                                                                                                                                                                                                                                                                                                                                                                                                                                                                                                                                                                                                                                                                                                                                                                                                                                                                                                                                                                                                                                                                                                                                                                                                                                                                                                                                                                                                                                                                                                                                                                                                                                                                                                                                                                                                                                                                                                                                                                                                                                                                                                                                                                                                                                                                                                                                                                                                                                                                                                                                                                                                                                                                                                                                                                                                                                                                                                                                                                                                                                                                                                                                                                                                                                                                                                                                                                                                                                                                                                                                                                                                                                                                                                                                                                                                                                                                                                                                                                                                                                                                                                                                                                                                                                                                                                                                                                                                                                                                                                                                                                                                                                                                                                                                                                                                                                                                                                                                                                                                                                                                                                                                                                                                                                                                                                                                                                                                                                                                                                                                                                                                                                                                                                                                                                                                                                                                                                                                                                                                                                                                                                                                                                                                                                                                                                                                                                                                                                                                                                                                                                                                                                                                                                                                                                                                                                                                                                                                                                                                                                                                                                                                                                                                                                                                                                                                                                                                                                                                                                                                                                                                                                                                                                                                                                                                                                                                                                                                                                                                                                                                                                                                                                                                                                                                                                                                                                                                                                                                                                                                                                                                                                                                                                                                                                                                                                                                                                                                                                                                                                                                                                                                                                                                                                                                                                                                                                                                                                                                                                                                                                                                                                                                                                                                                                                                                                                                                                                                                                                                                                                                                                                                                                                                                                                                                                                                                                                                                                                                                                                                                                                                                       2\n",
       "[{\"credit_id\": \"52fe43c19251416c7501cceb\", \"department\": \"Art\", \"gender\": 2, \"id\": 1317, \"job\": \"Production Design\", \"name\": \"Philip Ivey\"}, {\"credit_id\": \"52fe43c09251416c7501ccbb\", \"department\": \"Production\", \"gender\": 2, \"id\": 65595, \"job\": \"Producer\", \"name\": \"Timothy White\"}, {\"credit_id\": \"52fe43c09251416c7501ccc1\", \"department\": \"Writing\", \"gender\": 0, \"id\": 67107, \"job\": \"Author\", \"name\": \"Bill O'Brien\"}, {\"credit_id\": \"52fe43c19251416c7501ccc7\", \"department\": \"Directing\", \"gender\": 2, \"id\": 67106, \"job\": \"Director\", \"name\": \"Robert Sarkies\"}, {\"credit_id\": \"52fe43c19251416c7501cd5f\", \"department\": \"Writing\", \"gender\": 2, \"id\": 67106, \"job\": \"Author\", \"name\": \"Robert Sarkies\"}, {\"credit_id\": \"52fe43c19251416c7501cccd\", \"department\": \"Production\", \"gender\": 0, \"id\": 67110, \"job\": \"Producer\", \"name\": \"Steven O'Meagher\"}, {\"credit_id\": \"52fe43c19251416c7501ccd3\", \"department\": \"Production\", \"gender\": 2, \"id\": 67111, \"job\": \"Producer\", \"name\": \"Tim White\"}, {\"credit_id\": \"52fe43c19251416c7501ccd9\", \"department\": \"Writing\", \"gender\": 0, \"id\": 67109, \"job\": \"Author\", \"name\": \"Graeme Tetley\"}, {\"credit_id\": \"52fe43c19251416c7501ccdf\", \"department\": \"Camera\", \"gender\": 0, \"id\": 67113, \"job\": \"Director of Photography\", \"name\": \"Greig Fraser\"}, {\"credit_id\": \"52fe43c19251416c7501cce5\", \"department\": \"Sound\", \"gender\": 1, \"id\": 67112, \"job\": \"Original Music Composer\", \"name\": \"Victoria Kelly\"}, {\"credit_id\": \"52fe43c19251416c7501ccf1\", \"department\": \"Art\", \"gender\": 0, \"id\": 67114, \"job\": \"Art Direction\", \"name\": \"David Kolff\"}, {\"credit_id\": \"52fe43c19251416c7501ccfb\", \"department\": \"Costume & Make-Up\", \"gender\": 0, \"id\": 67116, \"job\": \"Costume Design\", \"name\": \"Lesley Burkes-Harding\"}, {\"credit_id\": \"52fe43c19251416c7501cd01\", \"department\": \"Art\", \"gender\": 0, \"id\": 67115, \"job\": \"Art Direction\", \"name\": \"Ken Turner\"}, {\"credit_id\": \"52fe43c19251416c7501cd07\", \"department\": \"Editing\", \"gender\": 0, \"id\": 67118, \"job\": \"Editor\", \"name\": \"Annie Collins\"}, {\"credit_id\": \"52fe43c19251416c7501cd0d\", \"department\": \"Production\", \"gender\": 0, \"id\": 67117, \"job\": \"Casting\", \"name\": \"Rachael Bullock\"}, {\"credit_id\": \"5881eb6b925141303400bca8\", \"department\": \"Crew\", \"gender\": 0, \"id\": 1079558, \"job\": \"Stunt Coordinator\", \"name\": \"Augie Davis\"}]                                                                                                                                                                                                                                                                                                                                                                                                                                                                                                                                                                                                                                                                                                                                                                                                                                                                                                                                                                                                                                                                                                                                                                                                                                                                                                                                                                                                                                                                                                                                                                                                                                                                                                                                                                                                                                                                                                                                                                                                                                                                                                                                                                                                                                                                                                                                                                                                                                                                                                                                                                                                                                                                                                                                                                                                                                                                                                                                                                                                                                                                                                                                                                                                                                                                                                                                                                                                                                                                                                                                                                                                                                                                                                                                                                                                                                                                                                                                                                                                                                                                                                                                                                                                                                                                                                                                                                                                                                                                                                                                                                                                                                                                                                                                                                                                                                                                                                                                                                                                                                                                                                                                                                                                                                                                                                                                                                                                                                                                                                                                                                                                                                                                                                                                                                                                                                                                                                                                                                                                                                                                                                                                                                                                                                                                                                                                                                                                                                                                                                                                                                                                                                                                                                                                                                                                                                                                                                                                                                                                                                                                                                                                                                                                                                                                                                                                                                                                                                                                                                                                                                                                                                                                                                                                                                                                                                                                                                                                                                                                                                                                                                                                                                                                                                                                                                                                                                                                                                                                                                                                                                                                                                                                                                                                                                                                                                                                                                                                                                                                                                                                                                                                                                                                                                                                                                                                                                                                                                                                                                                                                                                                                                                                                                                                                                                                                                                                                                                                                                                                                                                                                                                                                                                                                                                                                                                                                                                                                                                                                                                                                                                                                                                                                                                                                                                                                                                                                                                                                                                                                                                                                                                                                                                                                                                                                                                                                                                                                                                                                                                                                                                                                                                                                                                                                                                                                                                                                                                                                                                                                                                                                                                                                                                                                                                                                                                                                                                                                                                                                                                                                                                                                                                                                                                                                                                                                                                                                                                                                                                                                                                                                                                                                                                                                                                                                                                                                                                                                                                                                                                                                                                                                                                                                                                                                                                                                                                                                                                                                                                                                                                                                                                                                                                                                                                                                                                                                                                                                                                                                                                                                                                                                                                                                                                                                                                                                                                                                                                                                                                                                                                                                                                                                                                                                                                                                                                                                                                                                                                                                                                                                                                                                                                                                                                                                                                                                                                                                                                                                                                                                                                                                                                                                                                                                                                                                                                                                                                                                                                                                                                                                                                                                                                                                                                                                                                                                                                                                                                                                                                                                                                                                                                                                                                                                                                                                                                                                                                                                                                                                                                                                                                                                                                                                                                                                                                                                                                                                                                                                                                                                                                                                                                                                                                                                                                                                                                                                                                               2\n",
       "[{\"credit_id\": \"52fe422fc3a36847f800aa4b\", \"department\": \"Editing\", \"gender\": 2, \"id\": 244, \"job\": \"Editor\", \"name\": \"Ray Lovejoy\"}, {\"credit_id\": \"52fe422fc3a36847f800aa3f\", \"department\": \"Camera\", \"gender\": 2, \"id\": 293, \"job\": \"Director of Photography\", \"name\": \"Roger Pratt\"}, {\"credit_id\": \"52fe422fc3a36847f800a9f1\", \"department\": \"Directing\", \"gender\": 2, \"id\": 510, \"job\": \"Director\", \"name\": \"Tim Burton\"}, {\"credit_id\": \"52fe422fc3a36847f800aa45\", \"department\": \"Sound\", \"gender\": 2, \"id\": 531, \"job\": \"Original Music Composer\", \"name\": \"Danny Elfman\"}, {\"credit_id\": \"52fe422fc3a36847f800a9fd\", \"department\": \"Writing\", \"gender\": 0, \"id\": 913, \"job\": \"Screenplay\", \"name\": \"Warren Skaaren\"}, {\"credit_id\": \"52fe422fc3a36847f800a9f7\", \"department\": \"Writing\", \"gender\": 2, \"id\": 3794, \"job\": \"Characters\", \"name\": \"Bob Kane\"}, {\"credit_id\": \"52fe422fc3a36847f800aa33\", \"department\": \"Production\", \"gender\": 2, \"id\": 3804, \"job\": \"Producer\", \"name\": \"Peter Guber\"}, {\"credit_id\": \"52fe422fc3a36847f800aa39\", \"department\": \"Production\", \"gender\": 2, \"id\": 3805, \"job\": \"Producer\", \"name\": \"Jon Peters\"}, {\"credit_id\": \"52fe422fc3a36847f800aa51\", \"department\": \"Production\", \"gender\": 1, \"id\": 3806, \"job\": \"Casting\", \"name\": \"Marion Dougherty\"}, {\"credit_id\": \"52fe4230c3a36847f800aa57\", \"department\": \"Art\", \"gender\": 2, \"id\": 3807, \"job\": \"Production Design\", \"name\": \"Anton Furst\"}, {\"credit_id\": \"52fe4230c3a36847f800aa5d\", \"department\": \"Writing\", \"gender\": 2, \"id\": 3795, \"job\": \"Screenplay\", \"name\": \"Sam Hamm\"}, {\"credit_id\": \"570ede8992514102af000bff\", \"department\": \"Production\", \"gender\": 2, \"id\": 10949, \"job\": \"Executive Producer\", \"name\": \"Michael Uslan\"}]                                                                                                                                                                                                                                                                                                                                                                                                                                                                                                                                                                                                                                                                                                                                                                                                                                                                                                                                                                                                                                                                                                                                                                                                                                                                                                                                                                                                                                                                                                                                                                                                                                                                                                                                                                                                                                                                                                                                                                                                                                                                                                                                                                                                                                                                                                                                                                                                                                                                                                                                                                                                                                                                                                                                                                                                                                                                                                                                                                                                                                                                                                                                                                                                                                                                                                                                                                                                                                                                                                                                                                                                                                                                                                                                                                                                                                                                                                                                                                                                                                                                                                                                                                                                                                                                                                                                                                                                                                                                                                                                                                                                                                                                                                                                                                                                                                                                                                                                                                                                                                                                                                                                                                                                                                                                                                                                                                                                                                                                                                                                                                                                                                                                                                                                                                                                                                                                                                                                                                                                                                                                                                                                                                                                                                                                                                                                                                                                                                                                                                                                                                                                                                                                                                                                                                                                                                                                                                                                                                                                                                                                                                                                                                                                                                                                                                                                                                                                                                                                                                                                                                                                                                                                                                                                                                                                                                                                                                                                                                                                                                                                                                                                                                                                                                                                                                                                                                                                                                                                                                                                                                                                                                                                                                                                                                                                                                                                                                                                                                                                                                                                                                                                                                                                                                                                                                                                                                                                                                                                                                                                                                                                                                                                                                                                                                                                                                                                                                                                                                                                                                                                                                                                                                                                                                                                                                                                                                                                                                                                                                                                                                                                                                                                                                                                                                                                                                                                                                                                                                                                                                                                                                                                                                                                                                                                                                                                                                                                                                                                                                                                                                                                                                                                                                                                                                                                                                                                                                                                                                                                                                                                                                                                                                                                                                                                                                                                                                                                                                                                                                                                                                                                                                                                                                                                                                                                                                                                                                                                                                                                                                                                                                                                                                                                                                                                                                                                                                                                                                                                                                                                                                                                                                                                                                                                                                                                                                                                                                                                                                                                                                                                                                                                                                                                                                                                                                                                                                                                                                                                                                                                                                                                                                                                                                                                                                                                                                                                                                                                                                                                                                                                                                                                                                                                                                                                                                                                                                                                                                                                                                                                                                                                                                                                                                                                                                                                                                                                                                                                                                                                                                                                                                                                                                                                                                                                                                                                                                                                                                                                                                                                                                                                                                                                                                                                                                                                                                                                                                                                                                                                                                                                                                                                                                                                                                                                                                                                                                                                                                                                                                                                                                                                                                                                                                                                                                                                                                                                                                                                                                                                                                                                                                                                                                                                                                                                                                                                                                                                                                                                                                                                                                                                                                                                                                                                                                                                                                                                                                                                                                                                                2\n",
       "[{\"credit_id\": \"52fe42eac3a36847f802ca6b\", \"department\": \"Art\", \"gender\": 0, \"id\": 10109, \"job\": \"Production Design\", \"name\": \"Seong-hie Ryu\"}, {\"credit_id\": \"52fe42eac3a36847f802ca27\", \"department\": \"Directing\", \"gender\": 2, \"id\": 21684, \"job\": \"Director\", \"name\": \"Bong Joon-ho\"}, {\"credit_id\": \"52fe42eac3a36847f802ca47\", \"department\": \"Writing\", \"gender\": 2, \"id\": 21684, \"job\": \"Screenplay\", \"name\": \"Bong Joon-ho\"}, {\"credit_id\": \"52fe42eac3a36847f802ca2d\", \"department\": \"Writing\", \"gender\": 0, \"id\": 21685, \"job\": \"Screenplay\", \"name\": \"Chul-hyun Baek\"}, {\"credit_id\": \"52fe42eac3a36847f802ca4d\", \"department\": \"Production\", \"gender\": 0, \"id\": 16281, \"job\": \"Producer\", \"name\": \"Choi Yong-bae\"}, {\"credit_id\": \"52fe42eac3a36847f802ca53\", \"department\": \"Sound\", \"gender\": 0, \"id\": 21690, \"job\": \"Original Music Composer\", \"name\": \"Byungwoo Lee\"}, {\"credit_id\": \"52fe42eac3a36847f802ca59\", \"department\": \"Camera\", \"gender\": 2, \"id\": 17133, \"job\": \"Director of Photography\", \"name\": \"Kim Hyung-ku\"}, {\"credit_id\": \"590264e8c3a36840be00431d\", \"department\": \"Editing\", \"gender\": 0, \"id\": 69388, \"job\": \"Editor\", \"name\": \"Kim Sun-min\"}, {\"credit_id\": \"568f0167c3a36858f9003f5b\", \"department\": \"Production\", \"gender\": 0, \"id\": 1531380, \"job\": \"Producer\", \"name\": \"Junyoung Jang\"}, {\"credit_id\": \"56394955c3a3681b5e01f343\", \"department\": \"Production\", \"gender\": 0, \"id\": 1531380, \"job\": \"Co-Producer\", \"name\": \"Junyoung Jang\"}]                                                                                                                                                                                                                                                                                                                                                                                                                                                                                                                                                                                                                                                                                                                                                                                                                                                                                                                                                                                                                                                                                                                                                                                                                                                                                                                                                                                                                                                                                                                                                                                                                                                                                                                                                                                                                                                                                                                                                                                                                                                                                                                                                                                                                                                                                                                                                                                                                                                                                                                                                                                                                                                                                                                                                                                                                                                                                                                                                                                                                                                                                                                                                                                                                                                                                                                                                                                                                                                                                                                                                                                                                                                                                                                                                                                                                                                                                                                                                                                                                                                                                                                                                                                                                                                                                                                                                                                                                                                                                                                                                                                                                                                                                                                                                                                                                                                                                                                                                                                                                                                                                                                                                                                                                                                                                                                                                                                                                                                                                                                                                                                                                                                                                                                                                                                                                                                                                                                                                                                                                                                                                                                                                                                                                                                                                                                                                                                                                                                                                                                                                                                                                                                                                                                                                                                                                                                                                                                                                                                                                                                                                                                                                                                                                                                                                                                                                                                                                                                                                                                                                                                                                                                                                                                                                                                                                                                                                                                                                                                                                                                                                                                                                                                                                                                                                                                                                                                                                                                                                                                                                                                                                                                                                                                                                                                                                                                                                                                                                                                                                                                                                                                                                                                                                                                                                                                                                                                                                                                                                                                                                                                                                                                                                                                                                                                                                                                                                                                                                                                                                                                                                                                                                                                                                                                                                                                                                                                                                                                                                                                                                                                                                                                                                                                                                                                                                                                                                                                                                                                                                                                                                                                                                                                                                                                                                                                                                                                                                                                                                                                                                                                                                                                                                                                                                                                                                                                                                                                                                                                                                                                                                                                                                                                                                                                                                                                                                                                                                                                                                                                                                                                                                                                                                                                                                                                                                                                                                                                                                                                                                                                                                                                                                                                                                                                                                                                                                                                                                                                                                                                                                                                                                                                                                                                                                                                                                                                                                                                                                                                                                                                                                                                                                                                                                                                                                                                                                                                                                                                                                                                                                                                                                                                                                                                                                                                                                                                                                                                                                                                                                                                                                                                                                                                                                                                                                                                                                                                                                                                                                                                                                                                                                                                                                                                                                                                                                                                                                                                                                                                                                                                                                                                                                                                                                                                                                                                                                                                                                                                                                                                                                                                                                                                                                                                                                                                                                                                                                                                                                                                                                                                                                                                                                                                                                                                                                                                                                                                                                                                                                                                                                                                                                                                                                                                                                                                                                                                                                                                                                                                                                                                                                                                                                                                                                                                                                                                                                                                                                                                                                                                                                                                                                                                                                                                                                                                                                                                                                                                                                                                                                                                                                                                                                                                                                                                                           2\n",
       "                                                                                                                                                                                                                                                                                                                                                                                                                                                                                                                                                                                                                                                                                                                                                                                                                                                                                                                                                                                                                                                                                                                                                                                                                                                                                                                                                                                                                                                                                                                                                                                                                                                                                                                                                                                                                                                                                                                                                                                                                                                                                                                                                                                                                                                                                                                                                                                                                                                                                                                                                                                                                                                                                                                                                                                                                                                                                                                                                                                                                                                                                                                                                                                                                                                                                                                                                                                                                                                                                                                                                                                                                                                                                                                                                                                                                                                                                                                                                                                                                                                                                                                                                                                                                                                                                                                                                                                                                                                                                                                                                                                                                                                                                                                                                                                                                                                                                                                                                                                                                                                                                                                                                                                                                                                                                                                                                                                                                                                                                                                                                                                                                                                                                                                                                                                                                                                                                                                                                                                                                                                                                                                                                                                                                                                                                                                                                                                                                                                                                                                                                                                                                                                                                                                                                                                                                                                                                                                                                                                                                                                                                                                                                                                                                                                                                                                                                                                                                                                                                                                                                                                                                                                                                                                                                                                                                                                                                                                                                                                                                                                                                                                                                                                                                                                                                                                                                                                                                                                                                                                                                                                                                                                                                                                                                                                                                                                                                                                                                                                                                                                                                                                                                                                                                                                                                                                                                                                                                                                                                                                                                                                                                                                                                                                                                                                                                                                                                                                                                                                                                                                                                                                                                                                                                                                                                                                                                                                                                                                                                                                                                                                                                                                                                                                                                                                                                                                                                                                                                                                                                                                                                                                                                                                                                                                                                                                                                                                                                                                                                                                                                                                                                                                                                                                                                                                                                                                                                                                                                                                                                                                                                                                                                                                                                                                                                                                                                                                                                                                                                                                                                                                                                                                                                                                                                                                                                                                                                                                                                                                                                                                                                                                                                                                                                                                                                                                                                                                                                                                                                                                                                                                                                                                                                                                                                                                                                                                                                                                                                                                                                                                                                                                                                                                                                                                                                                                                                                                                                                                                                                                                                                                                                                                                                                                                                                                                                                                                                                                                                                                                                                                                                                                                                                                                                                                                                                                                                                                                                                                                                                                                                                                                                                                                                                                                                                                                                                                                                                                                                                                                                                                                                                                                                                                                                                                                                                                                                                                                                                                                                                                                                                                                                                                                                                                                                                                                                                                                                                                                                                                                                                                                                                                                                                                                                                                                                                                                                                                                                                                                                                                                                                                                                                                                                                                                                                                                                                                                                                                                                                                                                                                                                                                                                                                                                                                                                                                                                                                                                                                                                                                                                                                                                                                                                                                                                                                                                                                                                                                                                                                                                                                                                                                                                                                                                                                                                                                                                                                                                                                                                                                                                                                                                                                                                                                                                                                                                                                                                                                                                                                                                                                                                                                                                                                                                                                                                                                                                                                                                                                                                                                                                                                                                                                                                                                                                             ..\n",
       "[{\"credit_id\": \"52fe43e69251416c75022553\", \"department\": \"Production\", \"gender\": 0, \"id\": 282, \"job\": \"Producer\", \"name\": \"Charles Roven\"}, {\"credit_id\": \"52fe43e69251416c75022535\", \"department\": \"Directing\", \"gender\": 2, \"id\": 1215, \"job\": \"Director\", \"name\": \"Raja Gosnell\"}, {\"credit_id\": \"556b8a0bc3a36824e700218f\", \"department\": \"Production\", \"gender\": 1, \"id\": 5914, \"job\": \"Casting\", \"name\": \"Mary Vernieu\"}, {\"credit_id\": \"52fe43e69251416c7502255f\", \"department\": \"Sound\", \"gender\": 2, \"id\": 3393, \"job\": \"Original Music Composer\", \"name\": \"David Newman\"}, {\"credit_id\": \"57c8984bc3a3685be6000039\", \"department\": \"Art\", \"gender\": 0, \"id\": 7234, \"job\": \"Supervising Art Director\", \"name\": \"Shepherd Frankel\"}, {\"credit_id\": \"52fe43e69251416c75022565\", \"department\": \"Camera\", \"gender\": 2, \"id\": 11409, \"job\": \"Director of Photography\", \"name\": \"Oliver Wood\"}, {\"credit_id\": \"556b89e2c3a3682725001e22\", \"department\": \"Production\", \"gender\": 2, \"id\": 11900, \"job\": \"Co-Producer\", \"name\": \"Alan Glazer\"}, {\"credit_id\": \"52fe43e69251416c7502256b\", \"department\": \"Editing\", \"gender\": 2, \"id\": 13584, \"job\": \"Editor\", \"name\": \"Kent Beyda\"}, {\"credit_id\": \"52fe43e69251416c75022541\", \"department\": \"Production\", \"gender\": 2, \"id\": 13594, \"job\": \"Executive Producer\", \"name\": \"Joseph Barbera\"}, {\"credit_id\": \"57c89738c3a3686918001bc3\", \"department\": \"Writing\", \"gender\": 2, \"id\": 13594, \"job\": \"Characters\", \"name\": \"Joseph Barbera\"}, {\"credit_id\": \"57c896e69251416270002004\", \"department\": \"Writing\", \"gender\": 2, \"id\": 13620, \"job\": \"Characters\", \"name\": \"William Hanna\"}, {\"credit_id\": \"52fe43e69251416c7502253b\", \"department\": \"Writing\", \"gender\": 2, \"id\": 15218, \"job\": \"Screenplay\", \"name\": \"James Gunn\"}, {\"credit_id\": \"556b89ed92514173e00040fe\", \"department\": \"Production\", \"gender\": 2, \"id\": 15218, \"job\": \"Co-Producer\", \"name\": \"James Gunn\"}, {\"credit_id\": \"57c9e76692514155ac000e9a\", \"department\": \"Crew\", \"gender\": 0, \"id\": 15024, \"job\": \"Stunt Coordinator\", \"name\": \"Andy Armstrong\"}, {\"credit_id\": \"57c9df69925141563c000a66\", \"department\": \"Crew\", \"gender\": 0, \"id\": 15024, \"job\": \"Second Unit Cinematographer\", \"name\": \"Andy Armstrong\"}, {\"credit_id\": \"57c9dc51c3a36860d4000a6d\", \"department\": \"Costume & Make-Up\", \"gender\": 0, \"id\": 21257, \"job\": \"Makeup Artist\", \"name\": \"Gitte Axen\"}, {\"credit_id\": \"57c8999092514148e30000c4\", \"department\": \"Costume & Make-Up\", \"gender\": 1, \"id\": 21592, \"job\": \"Costume Design\", \"name\": \"Leesa Evans\"}, {\"credit_id\": \"57c89958c3a3685bec0000a3\", \"department\": \"Art\", \"gender\": 0, \"id\": 10858, \"job\": \"Set Decoration\", \"name\": \"Tedd Kuchera\"}, {\"credit_id\": \"57c9dc99c3a36847ba0030db\", \"department\": \"Costume & Make-Up\", \"gender\": 0, \"id\": 77206, \"job\": \"Prosthetic Supervisor\", \"name\": \"Bill Terezakis\"}, {\"credit_id\": \"52fe43e69251416c75022547\", \"department\": \"Production\", \"gender\": 2, \"id\": 60711, \"job\": \"Executive Producer\", \"name\": \"Brent O'Connor\"}, {\"credit_id\": \"57c9e91c9251413de3001664\", \"department\": \"Production\", \"gender\": 2, \"id\": 60711, \"job\": \"Unit Production Manager\", \"name\": \"Brent O'Connor\"}, {\"credit_id\": \"560056929251414e53000352\", \"department\": \"Crew\", \"gender\": 0, \"id\": 113194, \"job\": \"Stunts\", \"name\": \"James Bamford\"}, {\"credit_id\": \"52fe43e69251416c7502254d\", \"department\": \"Production\", \"gender\": 0, \"id\": 58237, \"job\": \"Executive Producer\", \"name\": \"Kelley Smith-Wait\"}, {\"credit_id\": \"52fe43e69251416c75022559\", \"department\": \"Production\", \"gender\": 2, \"id\": 18953, \"job\": \"Producer\", \"name\": \"Richard Suckle\"}, {\"credit_id\": \"57c9d93192514155ac00099d\", \"department\": \"Art\", \"gender\": 0, \"id\": 60596, \"job\": \"Assistant Art Director\", \"name\": \"John Alvarez\"}, {\"credit_id\": \"57c898cac3a3685be900007e\", \"department\": \"Art\", \"gender\": 0, \"id\": 65812, \"job\": \"Art Direction\", \"name\": \"Michael N. Wong\"}, {\"credit_id\": \"57c9edc6c3a368611d000fbc\", \"department\": \"Sound\", \"gender\": 0, \"id\": 86198, \"job\": \"Music Supervisor\", \"name\": \"Darren Higman\"}, {\"credit_id\": \"57c9ecf792514155ac0010ea\", \"department\": \"Sound\", \"gender\": 0, \"id\": 230134, \"job\": \"Boom Operator\", \"name\": \"Kelly Zombor\"}, {\"credit_id\": \"57c9ed33c3a368611d000f84\", \"department\": \"Sound\", \"gender\": 0, \"id\": 548435, \"job\": \"Foley\", \"name\": \"Nerses Gezalyan\"}, {\"credit_id\": \"57c9e9d5c3a36842a800160c\", \"department\": \"Editing\", \"gender\": 0, \"id\": 548437, \"job\": \"Dialogue Editor\", \"name\": \"Kimaree Long\"}, {\"credit_id\": \"57c9df35c3a368429700131c\", \"department\": \"Crew\", \"gender\": 0, \"id\": 928632, \"job\": \"Property Master\", \"name\": \"Lance Johnson\"}, {\"credit_id\": \"57c9e9c292514155ac000fa7\", \"department\": \"Editing\", \"gender\": 0, \"id\": 931247, \"job\": \"Color Timer\", \"name\": \"Anthony Harris\"}, {\"credit_id\": \"57c8987992514148e3000042\", \"department\": \"Art\", \"gender\": 2, \"id\": 961544, \"job\": \"Art Direction\", \"name\": \"Don MacAulay\"}, {\"credit_id\": \"564355299251410a49001eb9\", \"department\": \"Crew\", \"gender\": 2, \"id\": 1007395, \"job\": \"Stunt Coordinator\", \"name\": \"J.J. Makaro\"}, {\"credit_id\": \"57cabe2cc3a36872b900257d\", \"department\": \"Sound\", \"gender\": 0, \"id\": 1031810, \"job\": \"Sound Effects Editor\", \"name\": \"Kerry Ann Carmean\"}, {\"credit_id\": \"57c89824c3a3685c0000002d\", \"department\": \"Art\", \"gender\": 2, \"id\": 1128347, \"job\": \"Production Design\", \"name\": \"Bill Boes\"}, {\"credit_id\": \"57cac1af92514135140023ef\", \"department\": \"Sound\", \"gender\": 0, \"id\": 1159914, \"job\": \"Dolby Consultant\", \"name\": \"Mark Kenna\"}, {\"credit_id\": \"57c9dbeec3a36860df0009e2\", \"department\": \"Costume & Make-Up\", \"gender\": 0, \"id\": 1182909, \"job\": \"Hairstylist\", \"name\": \"Anji Bemben\"}, {\"credit_id\": \"57c9e96f92514155ac000f8b\", \"department\": \"Crew\", \"gender\": 0, \"id\": 1214632, \"job\": \"Visual Effects Editor\", \"name\": \"Daniel Arkin\"}, {\"credit_id\": \"57c9ec829251415611000fd2\", \"department\": \"Production\", \"gender\": 0, \"id\": 1252432, \"job\": \"Production Manager\", \"name\": \"Charles Lyall\"}, {\"credit_id\": \"57c9ed98925141563c000f0c\", \"department\": \"Sound\", \"gender\": 0, \"id\": 1263769, \"job\": \"Music Editor\", \"name\": \"Markus Czyzewski\"}, {\"credit_id\": \"57c9eac4c3a36842290015cf\", \"department\": \"Editing\", \"gender\": 0, \"id\": 1328410, \"job\": \"Assistant Editor\", \"name\": \"Matt Diezel\"}, {\"credit_id\": \"556b89ca9251416b0a0049d7\", \"department\": \"Production\", \"gender\": 0, \"id\": 1345973, \"job\": \"Associate Producer\", \"name\": \"Richard Cowan\"}, {\"credit_id\": \"57c9d986c3a368611d0008a6\", \"department\": \"Art\", \"gender\": 0, \"id\": 1368861, \"job\": \"Construction Coordinator\", \"name\": \"Brian Shell\"}, {\"credit_id\": \"57c9d8e5c3a36860d400092e\", \"department\": \"Art\", \"gender\": 0, \"id\": 1391672, \"job\": \"Art Department Assistant\", \"name\": \"Peter Ochotta\"}, {\"credit_id\": \"55422c7ac3a3681dab003db0\", \"department\": \"Visual Effects\", \"gender\": 0, \"id\": 1393014, \"job\": \"Animation\", \"name\": \"Kristin Solid\"}, {\"credit_id\": \"57c9da83c3a36860df000952\", \"department\": \"Camera\", \"gender\": 0, \"id\": 1399899, \"job\": \"Camera Technician\", \"name\": \"Steven J. Winslow\"}, {\"credit_id\": \"57c9dbb292514156110009f3\", \"department\": \"Camera\", \"gender\": 0, \"id\": 1400408, \"job\": \"Still Photographer\", \"name\": \"Diyah Pera\"}, {\"credit_id\": \"57c9d9dc925141561100093c\", \"department\": \"Art\", \"gender\": 0, \"id\": 1401556, \"job\": \"Sculptor\", \"name\": \"Brent Gloeckler\"}, {\"credit_id\": \"57c9dcec9251413d270011c6\", \"department\": \"Costume & Make-Up\", \"gender\": 0, \"id\": 1401604, \"job\": \"Wigmaker\", \"name\": \"Stacey Butterworth\"}, {\"credit_id\": \"57c9eaaf9251415611000f21\", \"department\": \"Editing\", \"gender\": 0, \"id\": 1402036, \"job\": \"Digital Intermediate\", \"name\": \"Ron Barr\"}, {\"credit_id\": \"57c9d95bc3a36860d400096a\", \"department\": \"Art\", \"gender\": 0, \"id\": 1404357, \"job\": \"Conceptual Design\", \"name\": \"Constantine Sekeris\"}, {\"credit_id\": \"57c9dcd792514155ac000b01\", \"department\": \"Costume & Make-Up\", \"gender\": 0, \"id\": 1404711, \"job\": \"Set Dressing Artist\", \"name\": \"Perry Battista\"}, {\"credit_id\": \"57c9dcbe925141563c000964\", \"department\": \"Costume & Make-Up\", \"gender\": 0, \"id\": 1404744, \"job\": \"Set Costumer\", \"name\": \"Luisa Dalmagro\"}, {\"credit_id\": \"57c9ecabc3a36860df000f9f\", \"department\": \"Production\", \"gender\": 0, \"id\": 1404755, \"job\": \"Publicist\", \"name\": \"Julia Frittaion\"}, {\"credit_id\": \"57cac159925141357d0022c2\", \"department\": \"Crew\", \"gender\": 0, \"id\": 1405210, \"job\": \"Digital Producer\", \"name\": \"Erika A. McKee\"}, {\"credit_id\": \"57cabdd5c3a3685c25002aef\", \"department\": \"Sound\", \"gender\": 2, \"id\": 1405382, \"job\": \"Sound Editor\", \"name\": \"Chris Hogan\"}, {\"credit_id\": \"57c9de01c3a36842a8001210\", \"department\": \"Crew\", \"gender\": 0, \"id\": 1408190, \"job\": \"Digital Effects Supervisor\", \"name\": \"Todd Shifflett\"}, {\"credit_id\": \"57c9deb4c3a36842970012ec\", \"department\": \"Crew\", \"gender\": 0, \"id\": 1408196, \"job\": \"Picture Car Coordinator\", \"name\": \"Rick Rasmussen\"}, {\"credit_id\": \"57c9dba292514155ac000a78\", \"department\": \"Camera\", \"gender\": 0, \"id\": 1409742, \"job\": \"Steadicam Operator\", \"name\": \"Dan Mannix\"}, {\"credit_id\": \"57c9eb43c3a368611d000ecf\", \"department\": \"Lighting\", \"gender\": 0, \"id\": 1410304, \"job\": \"Lighting Supervisor\", \"name\": \"Raymond Chen\"}, {\"credit_id\": \"57cac0e69251411ac5002bee\", \"department\": \"Visual Effects\", \"gender\": 0, \"id\": 1410572, \"job\": \"Visual Effects Producer\", \"name\": \"Stephanie Allen\"}, {\"credit_id\": \"57c9ece4c3a368611d000f62\", \"department\": \"Production\", \"gender\": 0, \"id\": 1411841, \"job\": \"Researcher\", \"name\": \"Rif Dagher\"}, {\"credit_id\": \"57cac1839251412884002536\", \"department\": \"Editing\", \"gender\": 0, \"id\": 1412460, \"job\": \"Editorial Services\", \"name\": \"Valance Eisleben\"}, {\"credit_id\": \"57c9dd5b9251415611000aa2\", \"department\": \"Crew\", \"gender\": 0, \"id\": 1413466, \"job\": \"CGI Supervisor\", \"name\": \"Michael Shand\"}, {\"credit_id\": \"57cabd6dc3a36872b900253e\", \"department\": \"Sound\", \"gender\": 0, \"id\": 1414549, \"job\": \"Sound Designer\", \"name\": \"Scott Wolf\"}, {\"credit_id\": \"57c9e72fc3a368611d000d16\", \"department\": \"Crew\", \"gender\": 0, \"id\": 1414748, \"job\": \"Stand In\", \"name\": \"Laura Boddington\"}, {\"credit_id\": \"57cabf06925141278a0053eb\", \"department\": \"Visual Effects\", \"gender\": 0, \"id\": 1415631, \"job\": \"3D Supervisor\", \"name\": \"Conrad Dueck\"}, {\"credit_id\": \"57cabeb9925141357d0021f6\", \"department\": \"Sound\", \"gender\": 0, \"id\": 1417972, \"job\": \"Supervising Sound Editor\", \"name\": \"Michael D. Wilhoit\"}, {\"credit_id\": \"57c9da0e925141563c000859\", \"department\": \"Art\", \"gender\": 0, \"id\": 1431018, \"job\": \"Set Designer\", \"name\": \"Mira Caveno\"}, {\"credit_id\": \"57c9dd48925141563c0009ae\", \"department\": \"Crew\", \"gender\": 0, \"id\": 1441357, \"job\": \"CG Supervisor\", \"name\": \"Joey Lessard\"}, {\"credit_id\": \"57c9da579251413d270010ca\", \"department\": \"Camera\", \"gender\": 0, \"id\": 1441368, \"job\": \"Additional Camera\", \"name\": \"Glen A. Dickson\"}, {\"credit_id\": \"554228bbc3a3681da5003dd1\", \"department\": \"Visual Effects\", \"gender\": 0, \"id\": 1447543, \"job\": \"Visual Effects\", \"name\": \"Hugo Dominguez\"}, {\"credit_id\": \"55422c569251414af0003f45\", \"department\": \"Visual Effects\", \"gender\": 0, \"id\": 1448601, \"job\": \"Animation\", \"name\": \"Angie Jones\"}, {\"credit_id\": \"57c9ec259251413de3001777\", \"department\": \"Production\", \"gender\": 0, \"id\": 1448620, \"job\": \"Location Manager\", \"name\": \"Kirk Johns\"}, {\"credit_id\": \"55422c3f9251414af3003d8a\", \"department\": \"Crew\", \"gender\": 0, \"id\": 1455604, \"job\": \"Supervising Animator\", \"name\": \"Bill Haller\"}, {\"credit_id\": \"55422c109251411fcb0025fe\", \"department\": \"Visual Effects\", \"gender\": 0, \"id\": 1461148, \"job\": \"Animation\", \"name\": \"Andrew Arnett\"}, {\"credit_id\": \"55422c1ac3a36877ee003880\", \"department\": \"Directing\", \"gender\": 0, \"id\": 1461149, \"job\": \"Layout\", \"name\": \"Steeve Boulianne\"}, {\"credit_id\": \"55422c239251414aee003ddc\", \"department\": \"Visual Effects\", \"gender\": 0, \"id\": 1461150, \"job\": \"Animation\", \"name\": \"Steve Cady\"}, {\"credit_id\": \"55422c2c9251411fcb002606\", \"department\": \"Visual Effects\", \"gender\": 0, \"id\": 1461151, \"job\": \"Animation\", \"name\": \"Jeff Croke\"}, {\"credit_id\": \"55422c359251414af0003f38\", \"department\": \"Visual Effects\", \"gender\": 0, \"id\": 1461152, \"job\": \"Animation\", \"name\": \"Brian Dowrick\"}, {\"credit_id\": \"55422c4a9251414af0003f3e\", \"department\": \"Visual Effects\", \"gender\": 0, \"id\": 1461153, \"job\": \"Animation\", \"name\": \"Steve Harwood\"}, {\"credit_id\": \"55422c63c3a3681d98003e18\", \"department\": \"Visual Effects\", \"gender\": 0, \"id\": 1461154, \"job\": \"Animation\", \"name\": \"Chris Lentz\"}, {\"credit_id\": \"55422c6dc3a3682a74003737\", \"department\": \"Visual Effects\", \"gender\": 0, \"id\": 1461155, \"job\": \"Animation\", \"name\": \"Leigh H. Rens\"}, {\"credit_id\": \"55422c84c3a36877ee00388b\", \"department\": \"Visual Effects\", \"gender\": 0, \"id\": 1461156, \"job\": \"Animation\", \"name\": \"Matt Williames\"}, {\"credit_id\": \"57c9db71c3a36842a80010fd\", \"department\": \"Camera\", \"gender\": 0, \"id\": 1461175, \"job\": \"Helicopter Camera\", \"name\": \"Tim Arasheben\"}, {\"credit_id\": \"57c9ebc49251413d27001703\", \"department\": \"Production\", \"gender\": 0, \"id\": 1464344, \"job\": \"Executive In Charge Of Post Production\", \"name\": \"Daniel R. Chavez\"}, {\"credit_id\": \"57c9e99ec3a36842970016e9\", \"department\": \"Directing\", \"gender\": 0, \"id\": 1466442, \"job\": \"Assistant Director\", \"name\": \"Morgan Beggs\"}, {\"credit_id\": \"57c9d90bc3a36842a8001003\", \"department\": \"Art\", \"gender\": 0, \"id\": 1531563, \"job\": \"Art Department Coordinator\", \"name\": \"Daphne Klebe\"}, {\"credit_id\": \"57c9e70592514155ac000e63\", \"department\": \"Crew\", \"gender\": 0, \"id\": 1531860, \"job\": \"Special Effects Coordinator\", \"name\": \"David Allinson\"}, {\"credit_id\": \"57c9ebf2925141563c000e83\", \"department\": \"Production\", \"gender\": 0, \"id\": 1546580, \"job\": \"Executive In Charge Of Production\", \"name\": \"Bill Draper\"}, {\"credit_id\": \"57cac045925141357d002278\", \"department\": \"Visual Effects\", \"gender\": 0, \"id\": 1550186, \"job\": \"Creature Design\", \"name\": \"Benton Jew\"}, {\"credit_id\": \"57cabe579251411ac5002af0\", \"department\": \"Sound\", \"gender\": 0, \"id\": 1552603, \"job\": \"Sound Engineer\", \"name\": \"Jeff Glueck\"}, {\"credit_id\": \"57c9ee4bc3a36847ba003712\", \"department\": \"Sound\", \"gender\": 0, \"id\": 1561882, \"job\": \"Production Sound Mixer\", \"name\": \"David Husby\"}, {\"credit_id\": \"57c9dabfc3a36860df00096d\", \"department\": \"Camera\", \"gender\": 0, \"id\": 1575868, \"job\": \"First Assistant Camera\", \"name\": \"Sandes Ashe\"}, {\"credit_id\": \"57c9e8ce9251413d850016a2\", \"department\": \"Crew\", \"gender\": 0, \"id\": 1577062, \"job\": \"Transportation Captain\", \"name\": \"Steve Ellis\"}, {\"credit_id\": \"57c9eba892514155ac001073\", \"department\": \"Lighting\", \"gender\": 0, \"id\": 1580844, \"job\": \"Rigging Grip\", \"name\": \"Herb DeWaal\"}, {\"credit_id\": \"57c9dd26c3a36842a80011ba\", \"department\": \"Crew\", \"gender\": 0, \"id\": 1597190, \"job\": \"Armorer\", \"name\": \"Tony Swatton\"}, {\"credit_id\": \"57c9edf9925141563c000f29\", \"department\": \"Sound\", \"gender\": 0, \"id\": 1604015, \"job\": \"Orchestrator\", \"name\": \"Gregory Jamrok\"}, {\"credit_id\": \"57cac10b925141357d0022aa\", \"department\": \"Visual Effects\", \"gender\": 0, \"id\": 1644532, \"job\": \"Visual Effects Supervisor\", \"name\": \"Chris Bond\"}, {\"credit_id\": \"57c9eb559251413d270016c9\", \"department\": \"Lighting\", \"gender\": 0, \"id\": 1653475, \"job\": \"Lighting Technician\", \"name\": \"Christopher Charles Kempinski\"}, {\"credit_id\": \"57cac1f29251411ac5002c30\", \"department\": \"Visual Effects\", \"gender\": 0, \"id\": 1671655, \"job\": \"Modeling\", \"name\": \"Keith Hunter\"}, {\"credit_id\": \"57c9d9adc3a36847ba002f94\", \"department\": \"Art\", \"gender\": 0, \"id\": 1673522, \"job\": \"Construction Foreman\", \"name\": \"Warren Dunlop\"}, {\"credit_id\": \"57c9d9c7c3a368422900101b\", \"department\": \"Art\", \"gender\": 0, \"id\": 1673523, \"job\": \"Greensman\", \"name\": \"Brad Oleksy\"}, {\"credit_id\": \"57c9db40c3a36842a80010e1\", \"department\": \"Camera\", \"gender\": 0, \"id\": 1673524, \"job\": \"Grip\", \"name\": \"Rick Allen\"}, {\"credit_id\": \"57c9dd3892514155b8000b38\", \"department\": \"Crew\", \"gender\": 0, \"id\": 1673526, \"job\": \"Carpenter\", \"name\": \"Patrick Booker\"}, {\"credit_id\": \"57c9dd80c3a36860df000a96\", \"department\": \"Crew\", \"gender\": 0, \"id\": 1673527, \"job\": \"Chef\", \"name\": \"Dwane McIsaac\"}, {\"credit_id\": \"57c9dd9c9251413d85001328\", \"department\": \"Crew\", \"gender\": 0, \"id\": 1673528, \"job\": \"Choreographer\", \"name\": \"Anne Fletcher\"}, {\"credit_id\": \"57c9ddedc3a36842970012ad\", \"department\": \"Crew\", \"gender\": 0, \"id\": 1673529, \"job\": \"Craft Service\", \"name\": \"Jim Rankin\"}, {\"credit_id\": \"57c9de5cc3a36842a800122c\", \"department\": \"Crew\", \"gender\": 0, \"id\": 1673531, \"job\": \"Driver\", \"name\": \"Ray Evans\"}, {\"credit_id\": \"57c9de95c3a36842a8001240\", \"department\": \"Crew\", \"gender\": 0, \"id\": 1673534, \"job\": \"Makeup Effects\", \"name\": \"Fernando Favila\"}, {\"credit_id\": \"57c9dec79251413d8500138c\", \"department\": \"Crew\", \"gender\": 1, \"id\": 1673535, \"job\": \"Post Production Supervisor\", \"name\": \"Joan Kelley Bierman\"}, {\"credit_id\": \"57c9dfb9c3a36860d4000ba1\", \"department\": \"Crew\", \"gender\": 0, \"id\": 1673538, \"job\": \"Security\", \"name\": \"Chris Bradford\"}, {\"credit_id\": \"57c9e03b92514155ac000c37\", \"department\": \"Crew\", \"gender\": 0, \"id\": 1673541, \"job\": \"Software Engineer\", \"name\": \"Ivan Neulander\"}, {\"credit_id\": \"57c9e77c92514155ac000ea8\", \"department\": \"Crew\", \"gender\": 0, \"id\": 1673547, \"job\": \"Stunts\", \"name\": \"Nick Allen\"}, {\"credit_id\": \"57c9e8a3c3a36860d4000ec8\", \"department\": \"Crew\", \"gender\": 0, \"id\": 1673548, \"job\": \"Systems Administrators & Support\", \"name\": \"Steve Linn\"}, {\"credit_id\": \"57c9e8ba9251413d88001615\", \"department\": \"Crew\", \"gender\": 0, \"id\": 1673549, \"job\": \"Technical Supervisor\", \"name\": \"L\\u00e1szl\\u00f3 Seb\\u00f5\"}, {\"credit_id\": \"57c9e8fe9251413d270015d4\", \"department\": \"Crew\", \"gender\": 0, \"id\": 1673550, \"job\": \"Transportation Coordinator\", \"name\": \"Peter Huff\"}, {\"credit_id\": \"57c9e94692514155ac000f75\", \"department\": \"Crew\", \"gender\": 0, \"id\": 1673552, \"job\": \"Utility Stunts\", \"name\": \"Cody Laudan\"}, {\"credit_id\": \"57c9e95dc3a36842970016d8\", \"department\": \"Crew\", \"gender\": 0, \"id\": 1673553, \"job\": \"Video Assist Operator\", \"name\": \"Ronald Schlueter\"}, {\"credit_id\": \"57c9eafe9251413d27001697\", \"department\": \"Lighting\", \"gender\": 0, \"id\": 1673556, \"job\": \"Best Boy Electric\", \"name\": \"Ronnie Baran\"}, {\"credit_id\": \"57c9eb12c3a36860df000f05\", \"department\": \"Lighting\", \"gender\": 0, \"id\": 1673558, \"job\": \"Gaffer\", \"name\": \"Tim Atkins\"}, {\"credit_id\": \"57c9eb27c3a3686066001037\", \"department\": \"Lighting\", \"gender\": 0, \"id\": 1673560, \"job\": \"Lighting Artist\", \"name\": \"John Lai\"}, {\"credit_id\": \"57c9eb979251413d85001799\", \"department\": \"Lighting\", \"gender\": 0, \"id\": 1673563, \"job\": \"Rigging Gaffer\", \"name\": \"Cory Hodson\"}, {\"credit_id\": \"57c9ec4e925141563c000ea6\", \"department\": \"Production\", \"gender\": 0, \"id\": 1673565, \"job\": \"Production Accountant\", \"name\": \"Mandy Butler\"}, {\"credit_id\": \"57c9ec659251413d850017fa\", \"department\": \"Production\", \"gender\": 0, \"id\": 1673566, \"job\": \"Production Coordinator\", \"name\": \"Juliet Verni\"}, {\"credit_id\": \"57c9ed219251413d85001836\", \"department\": \"Sound\", \"gender\": 0, \"id\": 1673568, \"job\": \"First Assistant Sound Editor\", \"name\": \"David Kudell\"}, {\"credit_id\": \"57cac037c3a36872b900264e\", \"department\": \"Visual Effects\", \"gender\": 0, \"id\": 1673808, \"job\": \"Animation Supervisor\", \"name\": \"Mathieu Blouin\"}, {\"credit_id\": \"57cac05fc3a368060800230d\", \"department\": \"Visual Effects\", \"gender\": 0, \"id\": 1673809, \"job\": \"Digital Compositors\", \"name\": \"Laide Agunbiade\"}, {\"credit_id\": \"57cac076925141278a00545f\", \"department\": \"Visual Effects\", \"gender\": 0, \"id\": 1673810, \"job\": \"I/O Supervisor\", \"name\": \"David Zbriger\"}, {\"credit_id\": \"57cac086c3a3686261002a61\", \"department\": \"Visual Effects\", \"gender\": 0, \"id\": 1673811, \"job\": \"Special Effects Supervisor\", \"name\": \"Mike Splatt\"}, {\"credit_id\": \"57cac0949251411ac5002bd3\", \"department\": \"Visual Effects\", \"gender\": 0, \"id\": 1673812, \"job\": \"Visual Development\", \"name\": \"August Hall\"}, {\"credit_id\": \"57cac0cf925141278a00547a\", \"department\": \"Visual Effects\", \"gender\": 0, \"id\": 1673814, \"job\": \"Visual Effects Coordinator\", \"name\": \"Melany Bourgouin\"}, {\"credit_id\": \"57cac133c3a3685c25002c2e\", \"department\": \"Writing\", \"gender\": 0, \"id\": 1673816, \"job\": \"Storyboard\", \"name\": \"Brom\"}, {\"credit_id\": \"57cac1db925141359c0022f5\", \"department\": \"Sound\", \"gender\": 0, \"id\": 1673817, \"job\": \"Sound\", \"name\": \"Karen Schell\"}]     1\n",
       "[{\"credit_id\": \"541efc000e0a2617970004d9\", \"department\": \"Writing\", \"gender\": 0, \"id\": 1142889, \"job\": \"Writer\", \"name\": \"Mark Strano\"}, {\"credit_id\": \"541efbd70e0a2617970004d5\", \"department\": \"Writing\", \"gender\": 0, \"id\": 1366270, \"job\": \"Writer\", \"name\": \"Wade Gasque\"}, {\"credit_id\": \"541efbe60e0a26179e0004c8\", \"department\": \"Directing\", \"gender\": 0, \"id\": 1366270, \"job\": \"Director\", \"name\": \"Wade Gasque\"}]                                                                                                                                                                                                                                                                                                                                                                                                                                                                                                                                                                                                                                                                                                                                                                                                                                                                                                                                                                                                                                                                                                                                                                                                                                                                                                                                                                                                                                                                                                                                                                                                                                                                                                                                                                                                                                                                                                                                                                                                                                                                                                                                                                                                                                                                                                                                                                                                                                                                                                                                                                                                                                                                                                                                                                                                                                                                                                                                                                                                                                                                                                                                                                                                                                                                                                                                                                                                                                                                                                                                                                                                                                                                                                                                                                                                                                                                                                                                                                                                                                                                                                                                                                                                                                                                                                                                                                                                                                                                                                                                                                                                                                                                                                                                                                                                                                                                                                                                                                                                                                                                                                                                                                                                                                                                                                                                                                                                                                                                                                                                                                                                                                                                                                                                                                                                                                                                                                                                                                                                                                                                                                                                                                                                                                                                                                                                                                                                                                                                                                                                                                                                                                                                                                                                                                                                                                                                                                                                                                                                                                                                                                                                                                                                                                                                                                                                                                                                                                                                                                                                                                                                                                                                                                                                                                                                                                                                                                                                                                                                                                                                                                                                                                                                                                                                                                                                                                                                                                                                                                                                                                                                                                                                                                                                                                                                                                                                                                                                                                                                                                                                                                                                                                                                                                                                                                                                                                                                                                                                                                                                                                                                                                                                                                                                                                                                                                                                                                                                                                                                                                                                                                                                                                                                                                                                                                                                                                                                                                                                                                                                                                                                                                                                                                                                                                                                                                                                                                                                                                                                                                                                                                                                                                                                                                                                                                                                                                                                                                                                                                                                                                                                                                                                                                                                                                                                                                                                                                                                                                                                                                                                                                                                                                                                                                                                                                                                                                                                                                                                                                                                                                                                                                                                                                                                                                                                                                                                                                                                                                                                                                                                                                                                                                                                                                                                                                                                                                                                                                                                                                                                                                                                                                                                                                                                                                                                                                                                                                                                                                                                                                                                                                                                                                                                                                                                                                                                                                                                                                                                                                                                                                                                                                                                                                                                                                                                                                                                                                                                                                                                                                                                                                                                                                                                                                                                                                                                                                                                                                                                                                                                                                                                                                                                                                                                                                                                                                                                                                                                                                                                                                                                                                                                                                                                                                                                                                                                                                                                                                                                                                                                                                                                                                                                                                                                                                                                                                                                                                                                                                                                                                                                                                                                                                                                                                                                                                                                                                                                                                                                                                                                                                                                                                                                                                                                                                                                                                                                                                                                                                                                                                                                                                                                                                                                                                                                                                                                                                                                                                                                                                                                                                                                                                                                                                                                                                                                                                                                                                                                                                                                                                                                                                                                                                                                                                                                                                                                                                                                                                                                                                                                                                                                                                                                                                                                                                                                                                                                                                                                                                                                                                                                                                                                                                                                                                                                                                                                  1\n",
       "[{\"credit_id\": \"52fe423bc3a36847f800e2e3\", \"department\": \"Production\", \"gender\": 1, \"id\": 28, \"job\": \"Producer\", \"name\": \"Wendy Finerman\"}, {\"credit_id\": \"52fe423bc3a36847f800e30d\", \"department\": \"Production\", \"gender\": 1, \"id\": 2242, \"job\": \"Casting\", \"name\": \"Ellen Lewis\"}, {\"credit_id\": \"52fe423bc3a36847f800e325\", \"department\": \"Art\", \"gender\": 1, \"id\": 4437, \"job\": \"Set Decoration\", \"name\": \"Lydia Marks\"}, {\"credit_id\": \"52fe423bc3a36847f800e2c5\", \"department\": \"Directing\", \"gender\": 2, \"id\": 5065, \"job\": \"Director\", \"name\": \"David Frankel\"}, {\"credit_id\": \"52fe423bc3a36847f800e2d7\", \"department\": \"Writing\", \"gender\": 0, \"id\": 10567, \"job\": \"Screenplay\", \"name\": \"Aline Brosh McKenna\"}, {\"credit_id\": \"52fe423bc3a36847f800e2dd\", \"department\": \"Writing\", \"gender\": 0, \"id\": 10568, \"job\": \"Author\", \"name\": \"Lauren Weisberger\"}, {\"credit_id\": \"52fe423bc3a36847f800e2e9\", \"department\": \"Production\", \"gender\": 1, \"id\": 10569, \"job\": \"Executive Producer\", \"name\": \"Karen Rosenfelt\"}, {\"credit_id\": \"52fe423bc3a36847f800e2ef\", \"department\": \"Production\", \"gender\": 0, \"id\": 10570, \"job\": \"Executive Producer\", \"name\": \"Joseph M. Caracciolo Jr.\"}, {\"credit_id\": \"52fe423bc3a36847f800e2f5\", \"department\": \"Production\", \"gender\": 0, \"id\": 10571, \"job\": \"Line Producer\", \"name\": \"John Bernard\"}, {\"credit_id\": \"52fe423bc3a36847f800e2fb\", \"department\": \"Sound\", \"gender\": 2, \"id\": 10572, \"job\": \"Original Music Composer\", \"name\": \"Theodore Shapiro\"}, {\"credit_id\": \"52fe423bc3a36847f800e301\", \"department\": \"Camera\", \"gender\": 2, \"id\": 10573, \"job\": \"Director of Photography\", \"name\": \"Florian Ballhaus\"}, {\"credit_id\": \"52fe423bc3a36847f800e307\", \"department\": \"Editing\", \"gender\": 2, \"id\": 10574, \"job\": \"Editor\", \"name\": \"Mark Livolsi\"}, {\"credit_id\": \"52fe423bc3a36847f800e313\", \"department\": \"Art\", \"gender\": 2, \"id\": 10575, \"job\": \"Production Design\", \"name\": \"Jess Gonchor\"}, {\"credit_id\": \"52fe423bc3a36847f800e319\", \"department\": \"Art\", \"gender\": 0, \"id\": 8795, \"job\": \"Art Direction\", \"name\": \"Anne Seibel\"}, {\"credit_id\": \"52fe423bc3a36847f800e31f\", \"department\": \"Art\", \"gender\": 2, \"id\": 10576, \"job\": \"Art Direction\", \"name\": \"Tom Warren\"}, {\"credit_id\": \"52fe423bc3a36847f800e32b\", \"department\": \"Costume & Make-Up\", \"gender\": 1, \"id\": 10577, \"job\": \"Costume Design\", \"name\": \"Patricia Field\"}, {\"credit_id\": \"52fe423bc3a36847f800e331\", \"department\": \"Production\", \"gender\": 0, \"id\": 10578, \"job\": \"Unit Production Manager\", \"name\": \"John A. Machione\"}, {\"credit_id\": \"52fe423bc3a36847f800e337\", \"department\": \"Production\", \"gender\": 0, \"id\": 10579, \"job\": \"Unit Production Manager\", \"name\": \"Judy Richter\"}]                                                                                                                                                                                                                                                                                                                                                                                                                                                                                                                                                                                                                                                                                                                                                                                                                                                                                                                                                                                                                                                                                                                                                                                                                                                                                                                                                                                                                                                                                                                                                                                                                                                                                                                                                                                                                                                                                                                                                                                                                                                                                                                                                                                                                                                                                                                                                                                                                                                                                                                                                                                                                                                                                                                                                                                                                                                                                                                                                                                                                                                                                                                                                                                                                                                                                                                                                                                                                                                                                                                                                                                                                                                                                                                                                                                                                                                                                                                                                                                                                                                                                                                                                                                                                                                                                                                                                                                                                                                                                                                                                                                                                                                                                                                                                                                                                                                                                                                                                                                                                                                                                                                                                                                                                                                                                                                                                                                                                                                                                                                                                                                                                                                                                                                                                                                                                                                                                                                                                                                                                                                                                                                                                                                                                                                                                                                                                                                                                                                                                                                                                                                                                                                                                                                                                                                                                                                                                                                                                                                                                                                                                                                                                                                                                                                                                                                                                                                                                                                                                                                                                                                                                                                                                                                                                                                                                                                                                                                                                                                                                                                                                                                                                                                                                                                                                                                                                                                                                                                                                                                                                                                                                                                                                                                                                                                                                                                                                                                                                                                                                                                                                                                                                                                                                                                                                                                                                                                                                                                                                                                                                                                                                                                                                                                                                                                                                                                                                                                                                                                                                                                                                                                                                                                                                                                                                                                                                                                                                                                                                                                                                                                                                                                                                                                                                                                                                                                                                                                                                                                                                                                                                                                                                                                                                                                                                                                                                                                                                                                                                                                                                                                                                                                                                                                                                                                                                                                                                                                                                                                                                                                                                                                                                                                                                                                                                                                                                                                                                                                                                                                                                                                                                                                                                                                                                                                                                                                                                                                                                                                                                                                                                                                                                                                                                                                                                                                                                                                                                                                                                                                                                                                                                                                                                                                                                                                                                                                                                                                                                                                                                                                                                                                                                                                                                                                                                                                                                                                                                                                                                                                                                                                                                                                                                                                                                                                                                                                                                                                                                                                                                                                                                                                                                                                                                                                                                                                                                                                                                                                                                                                                                                                                                                                                                                                                                                                                                                                                                                                                                                                                                                                                                                                                                                                                                                                                                                                                                                                                                                                                                                                                                                                                                                                                                                                                                                                                                                                                                                                                                                                                                                                                                                                                                                                                                                                                                                                                                                                                                                                                                                                                                                                                                                                                                                                                                                                                                                                                                                                                                                                                                             1\n",
       "[{\"credit_id\": \"52fe43b69251416c7501b3ab\", \"department\": \"Sound\", \"gender\": 2, \"id\": 1528, \"job\": \"Original Music Composer\", \"name\": \"George Fenton\"}, {\"credit_id\": \"52fe43b69251416c7501b3b7\", \"department\": \"Editing\", \"gender\": 2, \"id\": 2988, \"job\": \"Editor\", \"name\": \"Barry Malkin\"}, {\"credit_id\": \"52fe43b69251416c7501b399\", \"department\": \"Production\", \"gender\": 2, \"id\": 7779, \"job\": \"Producer\", \"name\": \"Sean Daniel\"}, {\"credit_id\": \"52fe43b69251416c7501b38d\", \"department\": \"Directing\", \"gender\": 0, \"id\": 9248, \"job\": \"Director\", \"name\": \"Nora Ephron\"}, {\"credit_id\": \"52fe43b69251416c7501b3a5\", \"department\": \"Production\", \"gender\": 0, \"id\": 9248, \"job\": \"Producer\", \"name\": \"Nora Ephron\"}, {\"credit_id\": \"52fe43b69251416c7501b3b1\", \"department\": \"Camera\", \"gender\": 0, \"id\": 23969, \"job\": \"Director of Photography\", \"name\": \"John Lindley\"}, {\"credit_id\": \"52fe43b69251416c7501b39f\", \"department\": \"Production\", \"gender\": 2, \"id\": 29525, \"job\": \"Producer\", \"name\": \"Andrew Lazar\"}, {\"credit_id\": \"52fe43b69251416c7501b393\", \"department\": \"Writing\", \"gender\": 2, \"id\": 57107, \"job\": \"Screenplay\", \"name\": \"Adam Resnick\"}]                                                                                                                                                                                                                                                                                                                                                                                                                                                                                                                                                                                                                                                                                                                                                                                                                                                                                                                                                                                                                                                                                                                                                                                                                                                                                                                                                                                                                                                                                                                                                                                                                                                                                                                                                                                                                                                                                                                                                                                                                                                                                                                                                                                                                                                                                                                                                                                                                                                                                                                                                                                                                                                                                                                                                                                                                                                                                                                                                                                                                                                                                                                                                                                                                                                                                                                                                                                                                                                                                                                                                                                                                                                                                                                                                                                                                                                                                                                                                                                                                                                                                                                                                                                                                                                                                                                                                                                                                                                                                                                                                                                                                                                                                                                                                                                                                                                                                                                                                                                                                                                                                                                                                                                                                                                                                                                                                                                                                                                                                                                                                                                                                                                                                                                                                                                                                                                                                                                                                                                                                                                                                                                                                                                                                                                                                                                                                                                                                                                                                                                                                                                                                                                                                                                                                                                                                                                                                                                                                                                                                                                                                                                                                                                                                                                                                                                                                                                                                                                                                                                                                                                                                                                                                                                                                                                                                                                                                                                                                                                                                                                                                                                                                                                                                                                                                                                                                                                                                                                                                                                                                                                                                                                                                                                                                                                                                                                                                                                                                                                                                                                                                                                                                                                                                                                                                                                                                                                                                                                                                                                                                                                                                                                                                                                                                                                                                                                                                                                                                                                                                                                                                                                                                                                                                                                                                                                                                                                                                                                                                                                                                                                                                                                                                                                                                                                                                                                                                                                                                                                                                                                                                                                                                                                                                                                                                                                                                                                                                                                                                                                                                                                                                                                                                                                                                                                                                                                                                                                                                                                                                                                                                                                                                                                                                                                                                                                                                                                                                                                                                                                                                                                                                                                                                                                                                                                                                                                                                                                                                                                                                                                                                                                                                                                                                                                                                                                                                                                                                                                                                                                                                                                                                                                                                                                                                                                                                                                                                                                                                                                                                                                                                                                                                                                                                                                                                                                                                                                                                                                                                                                                                                                                                                                                                                                                                                                                                                                                                                                                                                                                                                                                                                                                                                                                                                                                                                                                                                                                                                                                                                                                                                                                                                                                                                                                                                                                                                                                                                                                                                                                                                                                                                                                                                                                                                                                                                                                                                                                                                                                                                                                                                                                                                                                                                                                                                                                                                                                                                                                                                                                                                                                                                                                                                                                                                                                                                                                                                                                                                                                                                                                                                                                                                                                                                                                                                                                                                                                                                                                                                                                                                                                                                                                                                                                                                                                                                                                                                                                                                                                                                                                                                                                                                                                                                                                                                                                                                                                                                                                                                                                                                                                                                                                                                                                                                                                                                                                                                                                                                                                                                                                                                                       1\n",
       "[{\"credit_id\": \"52fe47019251416c7508ad81\", \"department\": \"Directing\", \"gender\": 2, \"id\": 33317, \"job\": \"Director\", \"name\": \"David Leland\"}]                                                                                                                                                                                                                                                                                                                                                                                                                                                                                                                                                                                                                                                                                                                                                                                                                                                                                                                                                                                                                                                                                                                                                                                                                                                                                                                                                                                                                                                                                                                                                                                                                                                                                                                                                                                                                                                                                                                                                                                                                                                                                                                                                                                                                                                                                                                                                                                                                                                                                                                                                                                                                                                                                                                                                                                                                                                                                                                                                                                                                                                                                                                                                                                                                                                                                                                                                                                                                                                                                                                                                                                                                                                                                                                                                                                                                                                                                                                                                                                                                                                                                                                                                                                                                                                                                                                                                                                                                                                                                                                                                                                                                                                                                                                                                                                                                                                                                                                                                                                                                                                                                                                                                                                                                                                                                                                                                                                                                                                                                                                                                                                                                                                                                                                                                                                                                                                                                                                                                                                                                                                                                                                                                                                                                                                                                                                                                                                                                                                                                                                                                                                                                                                                                                                                                                                                                                                                                                                                                                                                                                                                                                                                                                                                                                                                                                                                                                                                                                                                                                                                                                                                                                                                                                                                                                                                                                                                                                                                                                                                                                                                                                                                                                                                                                                                                                                                                                                                                                                                                                                                                                                                                                                                                                                                                                                                                                                                                                                                                                                                                                                                                                                                                                                                                                                                                                                                                                                                                                                                                                                                                                                                                                                                                                                                                                                                                                                                                                                                                                                                                                                                                                                                                                                                                                                                                                                                                                                                                                                                                                                                                                                                                                                                                                                                                                                                                                                                                                                                                                                                                                                                                                                                                                                                                                                                                                                                                                                                                                                                                                                                                                                                                                                                                                                                                                                                                                                                                                                                                                                                                                                                                                                                                                                                                                                                                                                                                                                                                                                                                                                                                                                                                                                                                                                                                                                                                                                                                                                                                                                                                                                                                                                                                                                                                                                                                                                                                                                                                                                                                                                                                                                                                                                                                                                                                                                                                                                                                                                                                                                                                                                                                                                                                                                                                                                                                                                                                                                                                                                                                                                                                                                                                                                                                                                                                                                                                                                                                                                                                                                                                                                                                                                                                                                                                                                                                                                                                                                                                                                                                                                                                                                                                                                                                                                                                                                                                                                                                                                                                                                                                                                                                                                                                                                                                                                                                                                                                                                                                                                                                                                                                                                                                                                                                                                                                                                                                                                                                                                                                                                                                                                                                                                                                                                                                                                                                                                                                                                                                                                                                                                                                                                                                                                                                                                                                                                                                                                                                                                                                                                                                                                                                                                                                                                                                                                                                                                                                                                                                                                                                                                                                                                                                                                                                                                                                                                                                                                                                                                                                                                                                                                                                                                                                                                                                                                                                                                                                                                                                                                                                                                                                                                                                                                                                                                                                                                                                                                                                                                                                                                                                                                                                                                                                                                                                                                                                                                                                                                                                                                                                                                                                                                                                   1\n",
       "Name: crew, Length: 4776, dtype: int64"
      ]
     },
     "execution_count": 8,
     "metadata": {},
     "output_type": "execute_result"
    }
   ],
   "source": [
    "movies_data['crew'].value_counts()"
   ]
  },
  {
   "cell_type": "code",
   "execution_count": 9,
   "id": "e7493b1c",
   "metadata": {},
   "outputs": [],
   "source": [
    "movies_data = movies_data[['id' , 'title' , 'overview' , 'genres' , 'cast' , 'keywords']]"
   ]
  },
  {
   "cell_type": "code",
   "execution_count": 10,
   "id": "e6ac0ac6",
   "metadata": {},
   "outputs": [],
   "source": [
    "movies_data.dropna(inplace=True)"
   ]
  },
  {
   "cell_type": "code",
   "execution_count": 11,
   "id": "8e26e0c8",
   "metadata": {},
   "outputs": [
    {
     "name": "stdout",
     "output_type": "stream",
     "text": [
      "0       False\n",
      "1       False\n",
      "2       False\n",
      "3       False\n",
      "4       False\n",
      "        ...  \n",
      "4804    False\n",
      "4805    False\n",
      "4806    False\n",
      "4807    False\n",
      "4808    False\n",
      "Length: 4806, dtype: bool\n"
     ]
    }
   ],
   "source": [
    "print(movies_data.duplicated())"
   ]
  },
  {
   "cell_type": "code",
   "execution_count": 12,
   "id": "5b5eb9a4",
   "metadata": {},
   "outputs": [],
   "source": [
    "import ast\n",
    "def change(obj):\n",
    "    LIST = []\n",
    "    for i in ast.literal_eval(obj):\n",
    "        LIST.append(i['name'])\n",
    "    return LIST    "
   ]
  },
  {
   "cell_type": "code",
   "execution_count": 13,
   "id": "0be01a15",
   "metadata": {},
   "outputs": [],
   "source": [
    "movies_data['genres'] = movies_data['genres'].apply(change)"
   ]
  },
  {
   "cell_type": "code",
   "execution_count": 14,
   "id": "e70b1663",
   "metadata": {},
   "outputs": [],
   "source": [
    "movies_data['keywords'] = movies_data['keywords'].apply(change)"
   ]
  },
  {
   "cell_type": "code",
   "execution_count": 15,
   "id": "05738dc2",
   "metadata": {},
   "outputs": [],
   "source": [
    "movies_data['cast'] = movies_data['cast'].apply(change)"
   ]
  },
  {
   "cell_type": "code",
   "execution_count": 16,
   "id": "0467eab4",
   "metadata": {},
   "outputs": [
    {
     "data": {
      "text/html": [
       "<div>\n",
       "<style scoped>\n",
       "    .dataframe tbody tr th:only-of-type {\n",
       "        vertical-align: middle;\n",
       "    }\n",
       "\n",
       "    .dataframe tbody tr th {\n",
       "        vertical-align: top;\n",
       "    }\n",
       "\n",
       "    .dataframe thead th {\n",
       "        text-align: right;\n",
       "    }\n",
       "</style>\n",
       "<table border=\"1\" class=\"dataframe\">\n",
       "  <thead>\n",
       "    <tr style=\"text-align: right;\">\n",
       "      <th></th>\n",
       "      <th>id</th>\n",
       "      <th>title</th>\n",
       "      <th>overview</th>\n",
       "      <th>genres</th>\n",
       "      <th>cast</th>\n",
       "      <th>keywords</th>\n",
       "    </tr>\n",
       "  </thead>\n",
       "  <tbody>\n",
       "    <tr>\n",
       "      <th>0</th>\n",
       "      <td>19995</td>\n",
       "      <td>Avatar</td>\n",
       "      <td>In the 22nd century, a paraplegic Marine is di...</td>\n",
       "      <td>[Action, Adventure, Fantasy, Science Fiction]</td>\n",
       "      <td>[Sam Worthington, Zoe Saldana, Sigourney Weave...</td>\n",
       "      <td>[culture clash, future, space war, space colon...</td>\n",
       "    </tr>\n",
       "  </tbody>\n",
       "</table>\n",
       "</div>"
      ],
      "text/plain": [
       "      id   title                                           overview  \\\n",
       "0  19995  Avatar  In the 22nd century, a paraplegic Marine is di...   \n",
       "\n",
       "                                          genres  \\\n",
       "0  [Action, Adventure, Fantasy, Science Fiction]   \n",
       "\n",
       "                                                cast  \\\n",
       "0  [Sam Worthington, Zoe Saldana, Sigourney Weave...   \n",
       "\n",
       "                                            keywords  \n",
       "0  [culture clash, future, space war, space colon...  "
      ]
     },
     "execution_count": 16,
     "metadata": {},
     "output_type": "execute_result"
    }
   ],
   "source": [
    "movies_data.head(1)"
   ]
  },
  {
   "cell_type": "code",
   "execution_count": 17,
   "id": "9a954f29",
   "metadata": {},
   "outputs": [],
   "source": [
    "movies_data['overview'] = movies_data['overview'].apply(lambda x : x.split())"
   ]
  },
  {
   "cell_type": "markdown",
   "id": "38955d85",
   "metadata": {},
   "source": [
    "#IMPORTANT to remove spaces for recommendation system"
   ]
  },
  {
   "cell_type": "code",
   "execution_count": 18,
   "id": "6a9cb30b",
   "metadata": {},
   "outputs": [],
   "source": [
    "movies_data['genres'] = movies_data['genres'].apply(lambda x : [i.replace(\" \",\"\") for i in x])"
   ]
  },
  {
   "cell_type": "code",
   "execution_count": 19,
   "id": "dbb8f040",
   "metadata": {},
   "outputs": [],
   "source": [
    "movies_data['cast'] = movies_data['cast'].apply(lambda x : [i.replace(\" \",\"\") for i in x])"
   ]
  },
  {
   "cell_type": "code",
   "execution_count": 20,
   "id": "7e8f8d5d",
   "metadata": {},
   "outputs": [],
   "source": [
    "movies_data['keywords'] = movies_data['keywords'].apply(lambda x : [i.replace(\" \",\"\") for i in x])"
   ]
  },
  {
   "cell_type": "code",
   "execution_count": 21,
   "id": "17c94c1d",
   "metadata": {},
   "outputs": [
    {
     "data": {
      "text/html": [
       "<div>\n",
       "<style scoped>\n",
       "    .dataframe tbody tr th:only-of-type {\n",
       "        vertical-align: middle;\n",
       "    }\n",
       "\n",
       "    .dataframe tbody tr th {\n",
       "        vertical-align: top;\n",
       "    }\n",
       "\n",
       "    .dataframe thead th {\n",
       "        text-align: right;\n",
       "    }\n",
       "</style>\n",
       "<table border=\"1\" class=\"dataframe\">\n",
       "  <thead>\n",
       "    <tr style=\"text-align: right;\">\n",
       "      <th></th>\n",
       "      <th>id</th>\n",
       "      <th>title</th>\n",
       "      <th>overview</th>\n",
       "      <th>genres</th>\n",
       "      <th>cast</th>\n",
       "      <th>keywords</th>\n",
       "    </tr>\n",
       "  </thead>\n",
       "  <tbody>\n",
       "    <tr>\n",
       "      <th>0</th>\n",
       "      <td>19995</td>\n",
       "      <td>Avatar</td>\n",
       "      <td>[In, the, 22nd, century,, a, paraplegic, Marin...</td>\n",
       "      <td>[Action, Adventure, Fantasy, ScienceFiction]</td>\n",
       "      <td>[SamWorthington, ZoeSaldana, SigourneyWeaver, ...</td>\n",
       "      <td>[cultureclash, future, spacewar, spacecolony, ...</td>\n",
       "    </tr>\n",
       "  </tbody>\n",
       "</table>\n",
       "</div>"
      ],
      "text/plain": [
       "      id   title                                           overview  \\\n",
       "0  19995  Avatar  [In, the, 22nd, century,, a, paraplegic, Marin...   \n",
       "\n",
       "                                         genres  \\\n",
       "0  [Action, Adventure, Fantasy, ScienceFiction]   \n",
       "\n",
       "                                                cast  \\\n",
       "0  [SamWorthington, ZoeSaldana, SigourneyWeaver, ...   \n",
       "\n",
       "                                            keywords  \n",
       "0  [cultureclash, future, spacewar, spacecolony, ...  "
      ]
     },
     "execution_count": 21,
     "metadata": {},
     "output_type": "execute_result"
    }
   ],
   "source": [
    "movies_data.head(1)"
   ]
  },
  {
   "cell_type": "code",
   "execution_count": 22,
   "id": "2ca2ce48",
   "metadata": {},
   "outputs": [],
   "source": [
    "movies_data['tags'] = movies_data['overview'] + movies_data['genres'] + movies_data['keywords'] + movies_data['cast']"
   ]
  },
  {
   "cell_type": "code",
   "execution_count": 23,
   "id": "096235d6",
   "metadata": {},
   "outputs": [
    {
     "data": {
      "text/html": [
       "<div>\n",
       "<style scoped>\n",
       "    .dataframe tbody tr th:only-of-type {\n",
       "        vertical-align: middle;\n",
       "    }\n",
       "\n",
       "    .dataframe tbody tr th {\n",
       "        vertical-align: top;\n",
       "    }\n",
       "\n",
       "    .dataframe thead th {\n",
       "        text-align: right;\n",
       "    }\n",
       "</style>\n",
       "<table border=\"1\" class=\"dataframe\">\n",
       "  <thead>\n",
       "    <tr style=\"text-align: right;\">\n",
       "      <th></th>\n",
       "      <th>id</th>\n",
       "      <th>title</th>\n",
       "      <th>overview</th>\n",
       "      <th>genres</th>\n",
       "      <th>cast</th>\n",
       "      <th>keywords</th>\n",
       "      <th>tags</th>\n",
       "    </tr>\n",
       "  </thead>\n",
       "  <tbody>\n",
       "    <tr>\n",
       "      <th>0</th>\n",
       "      <td>19995</td>\n",
       "      <td>Avatar</td>\n",
       "      <td>[In, the, 22nd, century,, a, paraplegic, Marin...</td>\n",
       "      <td>[Action, Adventure, Fantasy, ScienceFiction]</td>\n",
       "      <td>[SamWorthington, ZoeSaldana, SigourneyWeaver, ...</td>\n",
       "      <td>[cultureclash, future, spacewar, spacecolony, ...</td>\n",
       "      <td>[In, the, 22nd, century,, a, paraplegic, Marin...</td>\n",
       "    </tr>\n",
       "    <tr>\n",
       "      <th>1</th>\n",
       "      <td>285</td>\n",
       "      <td>Pirates of the Caribbean: At World's End</td>\n",
       "      <td>[Captain, Barbossa,, long, believed, to, be, d...</td>\n",
       "      <td>[Adventure, Fantasy, Action]</td>\n",
       "      <td>[JohnnyDepp, OrlandoBloom, KeiraKnightley, Ste...</td>\n",
       "      <td>[ocean, drugabuse, exoticisland, eastindiatrad...</td>\n",
       "      <td>[Captain, Barbossa,, long, believed, to, be, d...</td>\n",
       "    </tr>\n",
       "  </tbody>\n",
       "</table>\n",
       "</div>"
      ],
      "text/plain": [
       "      id                                     title  \\\n",
       "0  19995                                    Avatar   \n",
       "1    285  Pirates of the Caribbean: At World's End   \n",
       "\n",
       "                                            overview  \\\n",
       "0  [In, the, 22nd, century,, a, paraplegic, Marin...   \n",
       "1  [Captain, Barbossa,, long, believed, to, be, d...   \n",
       "\n",
       "                                         genres  \\\n",
       "0  [Action, Adventure, Fantasy, ScienceFiction]   \n",
       "1                  [Adventure, Fantasy, Action]   \n",
       "\n",
       "                                                cast  \\\n",
       "0  [SamWorthington, ZoeSaldana, SigourneyWeaver, ...   \n",
       "1  [JohnnyDepp, OrlandoBloom, KeiraKnightley, Ste...   \n",
       "\n",
       "                                            keywords  \\\n",
       "0  [cultureclash, future, spacewar, spacecolony, ...   \n",
       "1  [ocean, drugabuse, exoticisland, eastindiatrad...   \n",
       "\n",
       "                                                tags  \n",
       "0  [In, the, 22nd, century,, a, paraplegic, Marin...  \n",
       "1  [Captain, Barbossa,, long, believed, to, be, d...  "
      ]
     },
     "execution_count": 23,
     "metadata": {},
     "output_type": "execute_result"
    }
   ],
   "source": [
    "movies_data.head(2)"
   ]
  },
  {
   "cell_type": "code",
   "execution_count": 24,
   "id": "74640344",
   "metadata": {},
   "outputs": [],
   "source": [
    "data = movies_data[['id','title','tags']]"
   ]
  },
  {
   "cell_type": "code",
   "execution_count": 25,
   "id": "15f44527",
   "metadata": {},
   "outputs": [
    {
     "data": {
      "text/html": [
       "<div>\n",
       "<style scoped>\n",
       "    .dataframe tbody tr th:only-of-type {\n",
       "        vertical-align: middle;\n",
       "    }\n",
       "\n",
       "    .dataframe tbody tr th {\n",
       "        vertical-align: top;\n",
       "    }\n",
       "\n",
       "    .dataframe thead th {\n",
       "        text-align: right;\n",
       "    }\n",
       "</style>\n",
       "<table border=\"1\" class=\"dataframe\">\n",
       "  <thead>\n",
       "    <tr style=\"text-align: right;\">\n",
       "      <th></th>\n",
       "      <th>id</th>\n",
       "      <th>title</th>\n",
       "      <th>tags</th>\n",
       "    </tr>\n",
       "  </thead>\n",
       "  <tbody>\n",
       "    <tr>\n",
       "      <th>0</th>\n",
       "      <td>19995</td>\n",
       "      <td>Avatar</td>\n",
       "      <td>[In, the, 22nd, century,, a, paraplegic, Marin...</td>\n",
       "    </tr>\n",
       "    <tr>\n",
       "      <th>1</th>\n",
       "      <td>285</td>\n",
       "      <td>Pirates of the Caribbean: At World's End</td>\n",
       "      <td>[Captain, Barbossa,, long, believed, to, be, d...</td>\n",
       "    </tr>\n",
       "  </tbody>\n",
       "</table>\n",
       "</div>"
      ],
      "text/plain": [
       "      id                                     title  \\\n",
       "0  19995                                    Avatar   \n",
       "1    285  Pirates of the Caribbean: At World's End   \n",
       "\n",
       "                                                tags  \n",
       "0  [In, the, 22nd, century,, a, paraplegic, Marin...  \n",
       "1  [Captain, Barbossa,, long, believed, to, be, d...  "
      ]
     },
     "execution_count": 25,
     "metadata": {},
     "output_type": "execute_result"
    }
   ],
   "source": [
    "data.head(2)"
   ]
  },
  {
   "cell_type": "code",
   "execution_count": 26,
   "id": "ae72a4f1",
   "metadata": {},
   "outputs": [
    {
     "data": {
      "text/plain": [
       "0       In the 22nd century, a paraplegic Marine is di...\n",
       "1       Captain Barbossa, long believed to be dead, ha...\n",
       "2       A cryptic message from Bond’s past sends him o...\n",
       "3       Following the death of District Attorney Harve...\n",
       "4       John Carter is a war-weary, former military ca...\n",
       "                              ...                        \n",
       "4804    El Mariachi just wants to play his guitar and ...\n",
       "4805    A newlywed couple's honeymoon is upended by th...\n",
       "4806    \"Signed, Sealed, Delivered\" introduces a dedic...\n",
       "4807    When ambitious New York attorney Sam is sent t...\n",
       "4808    Ever since the second grade when he first saw ...\n",
       "Name: tags, Length: 4806, dtype: object"
      ]
     },
     "execution_count": 26,
     "metadata": {},
     "output_type": "execute_result"
    }
   ],
   "source": [
    "data['tags'].apply(lambda x : \" \".join(x))"
   ]
  },
  {
   "cell_type": "code",
   "execution_count": 27,
   "id": "fcdb91d7",
   "metadata": {},
   "outputs": [
    {
     "name": "stderr",
     "output_type": "stream",
     "text": [
      "C:\\Users\\Ovi\\AppData\\Local\\Temp/ipykernel_7560/4000147982.py:1: SettingWithCopyWarning: \n",
      "A value is trying to be set on a copy of a slice from a DataFrame.\n",
      "Try using .loc[row_indexer,col_indexer] = value instead\n",
      "\n",
      "See the caveats in the documentation: https://pandas.pydata.org/pandas-docs/stable/user_guide/indexing.html#returning-a-view-versus-a-copy\n",
      "  data['tags'] = data['tags'].apply(lambda x : \" \".join(x))\n"
     ]
    }
   ],
   "source": [
    "data['tags'] = data['tags'].apply(lambda x : \" \".join(x))"
   ]
  },
  {
   "cell_type": "code",
   "execution_count": 28,
   "id": "6ec7d7f3",
   "metadata": {},
   "outputs": [
    {
     "data": {
      "text/plain": [
       "0       in the 22nd century, a paraplegic marine is di...\n",
       "1       captain barbossa, long believed to be dead, ha...\n",
       "2       a cryptic message from bond’s past sends him o...\n",
       "3       following the death of district attorney harve...\n",
       "4       john carter is a war-weary, former military ca...\n",
       "                              ...                        \n",
       "4804    el mariachi just wants to play his guitar and ...\n",
       "4805    a newlywed couple's honeymoon is upended by th...\n",
       "4806    \"signed, sealed, delivered\" introduces a dedic...\n",
       "4807    when ambitious new york attorney sam is sent t...\n",
       "4808    ever since the second grade when he first saw ...\n",
       "Name: tags, Length: 4806, dtype: object"
      ]
     },
     "execution_count": 28,
     "metadata": {},
     "output_type": "execute_result"
    }
   ],
   "source": [
    "data['tags'].apply(lambda x : x.lower())"
   ]
  },
  {
   "cell_type": "code",
   "execution_count": 29,
   "id": "37c2f904",
   "metadata": {},
   "outputs": [
    {
     "name": "stderr",
     "output_type": "stream",
     "text": [
      "C:\\Users\\Ovi\\AppData\\Local\\Temp/ipykernel_7560/999398172.py:1: SettingWithCopyWarning: \n",
      "A value is trying to be set on a copy of a slice from a DataFrame.\n",
      "Try using .loc[row_indexer,col_indexer] = value instead\n",
      "\n",
      "See the caveats in the documentation: https://pandas.pydata.org/pandas-docs/stable/user_guide/indexing.html#returning-a-view-versus-a-copy\n",
      "  data['tags'] = data['tags'].apply(lambda x : x.lower())\n"
     ]
    }
   ],
   "source": [
    "data['tags'] = data['tags'].apply(lambda x : x.lower())"
   ]
  },
  {
   "cell_type": "code",
   "execution_count": 30,
   "id": "76561f2e",
   "metadata": {},
   "outputs": [],
   "source": [
    "from sklearn.feature_extraction.text import CountVectorizer"
   ]
  },
  {
   "cell_type": "code",
   "execution_count": 31,
   "id": "cf7eadab",
   "metadata": {},
   "outputs": [],
   "source": [
    "cv = CountVectorizer(max_features = 5000 , stop_words = 'english')"
   ]
  },
  {
   "cell_type": "code",
   "execution_count": 32,
   "id": "a64126cc",
   "metadata": {},
   "outputs": [],
   "source": [
    "vectors = cv.fit_transform(data['tags']).toarray()"
   ]
  },
  {
   "cell_type": "code",
   "execution_count": 33,
   "id": "01f84f41",
   "metadata": {},
   "outputs": [
    {
     "data": {
      "text/plain": [
       "(4806, 5000)"
      ]
     },
     "execution_count": 33,
     "metadata": {},
     "output_type": "execute_result"
    }
   ],
   "source": [
    "cv.fit_transform(data['tags']).toarray().shape"
   ]
  },
  {
   "cell_type": "code",
   "execution_count": 34,
   "id": "6a305be8",
   "metadata": {},
   "outputs": [
    {
     "data": {
      "text/plain": [
       "array(['000', '007', '10', ..., 'zoo', 'zooeydeschanel', 'zoëkravitz'],\n",
       "      dtype=object)"
      ]
     },
     "execution_count": 34,
     "metadata": {},
     "output_type": "execute_result"
    }
   ],
   "source": [
    "cv.get_feature_names_out()"
   ]
  },
  {
   "cell_type": "code",
   "execution_count": 35,
   "id": "e1a1913b",
   "metadata": {},
   "outputs": [],
   "source": [
    "from sklearn.metrics.pairwise import cosine_similarity"
   ]
  },
  {
   "cell_type": "code",
   "execution_count": 36,
   "id": "2db196e2",
   "metadata": {},
   "outputs": [],
   "source": [
    "similarity = cosine_similarity(vectors)"
   ]
  },
  {
   "cell_type": "code",
   "execution_count": 37,
   "id": "94e8f843",
   "metadata": {},
   "outputs": [
    {
     "data": {
      "text/plain": [
       "array([[1.        , 0.07142857, 0.05143445, ..., 0.02326211, 0.02571722,\n",
       "        0.        ],\n",
       "       [0.07142857, 1.        , 0.07715167, ..., 0.02326211, 0.        ,\n",
       "        0.        ],\n",
       "       [0.05143445, 0.07715167, 1.        , ..., 0.02512595, 0.        ,\n",
       "        0.        ],\n",
       "       ...,\n",
       "       [0.02326211, 0.02326211, 0.02512595, ..., 1.        , 0.07537784,\n",
       "        0.04767313],\n",
       "       [0.02571722, 0.        , 0.        , ..., 0.07537784, 1.        ,\n",
       "        0.05270463],\n",
       "       [0.        , 0.        , 0.        , ..., 0.04767313, 0.05270463,\n",
       "        1.        ]])"
      ]
     },
     "execution_count": 37,
     "metadata": {},
     "output_type": "execute_result"
    }
   ],
   "source": [
    "similarity"
   ]
  },
  {
   "cell_type": "code",
   "execution_count": 38,
   "id": "fbd13133",
   "metadata": {},
   "outputs": [
    {
     "data": {
      "text/plain": [
       "[(1216, 0.23160277792655043),\n",
       " (1920, 0.23145502494313785),\n",
       " (582, 0.2309782890611944),\n",
       " (539, 0.2252817784447915),\n",
       " (507, 0.21912524504463887),\n",
       " (1444, 0.21398024625545647),\n",
       " (3608, 0.21398024625545647),\n",
       " (4192, 0.2123976976214366),\n",
       " (260, 0.21170244960998524),\n",
       " (74, 0.20935894733965596)]"
      ]
     },
     "execution_count": 38,
     "metadata": {},
     "output_type": "execute_result"
    }
   ],
   "source": [
    "sorted(list(enumerate(similarity[0])),reverse=True,key=lambda x : x[1])[1:11]"
   ]
  },
  {
   "cell_type": "code",
   "execution_count": 39,
   "id": "72992e99",
   "metadata": {},
   "outputs": [
    {
     "data": {
      "text/html": [
       "<div>\n",
       "<style scoped>\n",
       "    .dataframe tbody tr th:only-of-type {\n",
       "        vertical-align: middle;\n",
       "    }\n",
       "\n",
       "    .dataframe tbody tr th {\n",
       "        vertical-align: top;\n",
       "    }\n",
       "\n",
       "    .dataframe thead th {\n",
       "        text-align: right;\n",
       "    }\n",
       "</style>\n",
       "<table border=\"1\" class=\"dataframe\">\n",
       "  <thead>\n",
       "    <tr style=\"text-align: right;\">\n",
       "      <th></th>\n",
       "      <th>id</th>\n",
       "      <th>title</th>\n",
       "      <th>tags</th>\n",
       "    </tr>\n",
       "  </thead>\n",
       "  <tbody>\n",
       "    <tr>\n",
       "      <th>0</th>\n",
       "      <td>19995</td>\n",
       "      <td>Avatar</td>\n",
       "      <td>in the 22nd century, a paraplegic marine is di...</td>\n",
       "    </tr>\n",
       "    <tr>\n",
       "      <th>1</th>\n",
       "      <td>285</td>\n",
       "      <td>Pirates of the Caribbean: At World's End</td>\n",
       "      <td>captain barbossa, long believed to be dead, ha...</td>\n",
       "    </tr>\n",
       "  </tbody>\n",
       "</table>\n",
       "</div>"
      ],
      "text/plain": [
       "      id                                     title  \\\n",
       "0  19995                                    Avatar   \n",
       "1    285  Pirates of the Caribbean: At World's End   \n",
       "\n",
       "                                                tags  \n",
       "0  in the 22nd century, a paraplegic marine is di...  \n",
       "1  captain barbossa, long believed to be dead, ha...  "
      ]
     },
     "execution_count": 39,
     "metadata": {},
     "output_type": "execute_result"
    }
   ],
   "source": [
    "data.head(2)"
   ]
  },
  {
   "cell_type": "code",
   "execution_count": 40,
   "id": "818be14b",
   "metadata": {},
   "outputs": [],
   "source": [
    "def recommendMovies(movie) :\n",
    "    index_of_movie = data[data['title'] == movie].index[0]\n",
    "    distance = similarity[index_of_movie]\n",
    "    movies_list = sorted(list(enumerate(distance)),reverse=True,key=lambda x : x[1])[1:11]\n",
    "\n",
    "    for i in movies_list:\n",
    "        print(data.iloc[i[0]].title)\n",
    "    "
   ]
  },
  {
   "cell_type": "code",
   "execution_count": 41,
   "id": "a7abcf76",
   "metadata": {},
   "outputs": [],
   "source": [
    "#This is our recommended system"
   ]
  },
  {
   "cell_type": "code",
   "execution_count": 46,
   "id": "9357eaa6",
   "metadata": {
    "scrolled": true
   },
   "outputs": [
    {
     "name": "stdout",
     "output_type": "stream",
     "text": [
      "Desert Dancer\n",
      "Take the Lead\n",
      "Step Up\n",
      "Step Up 2: The Streets\n",
      "Center Stage\n",
      "ABCD (Any Body Can Dance)\n",
      "Tango\n",
      "Step Up Revolution\n",
      "Footloose\n",
      "Dancin' It's On\n"
     ]
    }
   ],
   "source": [
    "recommendMovies('The Godfather')"
   ]
  },
  {
   "cell_type": "code",
   "execution_count": 47,
   "id": "a7f169d1",
   "metadata": {},
   "outputs": [
    {
     "name": "stdout",
     "output_type": "stream",
     "text": [
      "The Dark Knight Rises\n",
      "Batman Begins\n",
      "Batman Returns\n",
      "Amidst the Devil's Wings\n",
      "Batman Forever\n",
      "Batman & Robin\n",
      "Batman\n",
      "Gangster's Paradise: Jerusalema\n",
      "Batman: The Dark Knight Returns, Part 2\n",
      "Batman\n"
     ]
    }
   ],
   "source": [
    "recommendMovies('The Dark Knight')"
   ]
  },
  {
   "cell_type": "code",
   "execution_count": 45,
   "id": "10f3d1e5",
   "metadata": {},
   "outputs": [
    {
     "name": "stdout",
     "output_type": "stream",
     "text": [
      "Timecop\n",
      "The Walk\n",
      "The Helix... Loaded\n",
      "Star Trek II: The Wrath of Khan\n",
      "The Score\n",
      "Extreme Ops\n",
      "Duplex\n",
      "Now You See Me 2\n",
      "Chicago Overcoat\n",
      "Looper\n"
     ]
    }
   ],
   "source": [
    "recommendMovies('Inception')"
   ]
  },
  {
   "cell_type": "code",
   "execution_count": null,
   "id": "f15a219d",
   "metadata": {},
   "outputs": [],
   "source": []
  }
 ],
 "metadata": {
  "kernelspec": {
   "display_name": "Python 3 (ipykernel)",
   "language": "python",
   "name": "python3"
  },
  "language_info": {
   "codemirror_mode": {
    "name": "ipython",
    "version": 3
   },
   "file_extension": ".py",
   "mimetype": "text/x-python",
   "name": "python",
   "nbconvert_exporter": "python",
   "pygments_lexer": "ipython3",
   "version": "3.9.1"
  }
 },
 "nbformat": 4,
 "nbformat_minor": 5
}
